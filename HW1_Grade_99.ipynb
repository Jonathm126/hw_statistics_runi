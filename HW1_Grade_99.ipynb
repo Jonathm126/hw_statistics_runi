{
  "nbformat": 4,
  "nbformat_minor": 0,
  "metadata": {
    "colab": {
      "provenance": [],
      "collapsed_sections": [
        "3haXcq1WB-P4",
        "9e1be2T8B-P_",
        "ks86FhXpB-QC",
        "20ThjCQuB-QJ",
        "kdHhGgwsB-Ri",
        "Jn9OiSXhB-R6",
        "V_MDemvFB-Su",
        "rYkHQieiB-TU",
        "epn5lIHNB-Tq",
        "h9tBTp_gB-Tw",
        "ZrTb_j3JB-Vx"
      ],
      "include_colab_link": true
    },
    "kernelspec": {
      "display_name": "Python 3",
      "language": "python",
      "name": "python3"
    },
    "language_info": {
      "codemirror_mode": {
        "name": "ipython",
        "version": 3
      },
      "file_extension": ".py",
      "mimetype": "text/x-python",
      "name": "python",
      "nbconvert_exporter": "python",
      "pygments_lexer": "ipython3",
      "version": "3.7.0"
    }
  },
  "cells": [
    {
      "cell_type": "markdown",
      "metadata": {
        "id": "view-in-github",
        "colab_type": "text"
      },
      "source": [
        "<a href=\"https://colab.research.google.com/github/barboym/hw_statistics_runi/blob/master/HW1_Grade_99.ipynb\" target=\"_parent\"><img src=\"https://colab.research.google.com/assets/colab-badge.svg\" alt=\"Open In Colab\"/></a>"
      ]
    },
    {
      "cell_type": "markdown",
      "metadata": {
        "id": "mQ67DacN8qaH"
      },
      "source": [
        "\n",
        "\n",
        "***DO NOT EDIT This document - make your own copy!***\n",
        "\n",
        "\n"
      ]
    },
    {
      "cell_type": "markdown",
      "metadata": {
        "id": "ZR9XyB52B-Nx"
      },
      "source": [
        "### IDs:\n",
        "Insert yours IDs to the cell below"
      ]
    },
    {
      "cell_type": "markdown",
      "metadata": {
        "id": "9Snuu0L98nej"
      },
      "source": []
    },
    {
      "cell_type": "markdown",
      "metadata": {
        "id": "Y6ffHcNqB-OB"
      },
      "source": [
        "ID #1: --\n",
        "\n",
        "ID #2: --"
      ]
    },
    {
      "cell_type": "code",
      "metadata": {
        "id": "U6u6S1bUB-OF"
      },
      "source": [
        "import numpy as np\n",
        "import matplotlib.pyplot as plt"
      ],
      "execution_count": null,
      "outputs": []
    },
    {
      "cell_type": "markdown",
      "metadata": {
        "id": "VJ3fnmdIB-OY"
      },
      "source": [
        "## Read the following instructions carefully:\n",
        "\n",
        "1. This jupyter notebook contains all the step by step instructions needed for this exercise.\n",
        "1. You are free to add cells.\n",
        "1. Write your functions and your answers in this jupyter notebook only.\n",
        "1. Answers to theoretical questions should be written in **markdown cells (with $\\LaTeX$ support)**.\n",
        "1. Submit this jupyter notebook only using your ID as a filename. Not to use ZIP or RAR. For example, your Moodle submission file name should look like this (two id numbers): `123456789_987654321.ipynb`."
      ]
    },
    {
      "cell_type": "markdown",
      "metadata": {
        "id": "_h9iuenrB-Ob"
      },
      "source": [
        "### Question 1 - Defective products"
      ]
    },
    {
      "cell_type": "markdown",
      "metadata": {
        "id": "o9GGnYHkB-Oe"
      },
      "source": [
        "In a manufacturing pipeline products are 1% defective. We are interested in examining a defective product to see what goes wrong on the belt. We need to ask the facility manager to send us a set of independent samples for examination."
      ]
    },
    {
      "cell_type": "markdown",
      "metadata": {
        "id": "vwfh6RTBB-Og"
      },
      "source": [
        "#### 1.A\n",
        "\n",
        "How many independent samples should we ask for in order to have a 75% probability of having at least one defective product in the batch sent?\n",
        "Write a function that computes this."
      ]
    },
    {
      "cell_type": "code",
      "metadata": {
        "id": "5oXF4TARB-Oj"
      },
      "source": [
        "def get_defective_from_sample(wanted_prob_defective=0.75,prob_sample=0.01):\n",
        "    i = 1\n",
        "    exceed = False\n",
        "    while exceed == False:\n",
        "        if 1-prob_sample**i < 1-wanted_prob_defective:\n",
        "            exceed = True\n",
        "        else:\n",
        "            i += 1\n",
        "    return i\n",
        "get_defective_from_sample()"
      ],
      "execution_count": null,
      "outputs": []
    },
    {
      "cell_type": "code",
      "metadata": {
        "id": "WyYzJzK-Xlz0"
      },
      "source": [
        "import numpy as np\n",
        "import scipy.stats \n",
        "import matplotlib.pyplot as plt\n",
        "\n",
        "\n",
        "p = 0.03\n",
        "k = 5\n",
        "confidence = 0.9\n",
        "n = np.arange(k, 700)\n",
        "\n",
        "binomSurvivalDist = scipy.stats.binom.sf(k, n, p)\n",
        "nrequired = n[binomSurvivalDist >= confidence][0]\n",
        "\n",
        "# Plotting the results to Verify that this works\n",
        "fig, ax = plt.subplots(1, 1, figsize=(12, 10))\n",
        "x = np.arange(0, nrequired+1)\n",
        "ax.plot(n, scipy.stats.binom.cdf(n, nrequired, p))\n",
        "ax.set_xlabel(\"Number of Successes\", fontsize=16)\n",
        "ax.set_ylabel(\"Probability of Getting At Least this Many Success\", fontsize=16)\n",
        "ax.set_title(\"Distribution for %i Trials\" % nrequired, fontsize=18)\n",
        "\n",
        "print(nrequired)\n",
        "plt.show()"
      ],
      "execution_count": null,
      "outputs": []
    },
    {
      "cell_type": "markdown",
      "metadata": {
        "id": "EBBQuEYhB-Oz"
      },
      "source": [
        "#### Answer the same question but where:\n",
        "#### 1.B.1 \n",
        "Products are 4% defective and we want a 95% probability of at least one defective product in the batch"
      ]
    },
    {
      "cell_type": "code",
      "metadata": {
        "id": "cl0-mu7AB-O2"
      },
      "source": [
        "get_defective_from_sample(0.95,0.04)"
      ],
      "execution_count": null,
      "outputs": []
    },
    {
      "cell_type": "markdown",
      "metadata": {
        "id": "ZPc0MEYNB-O-"
      },
      "source": [
        "#### 1.B.2\n",
        "Products are 10% defective and we want a 90% probability of at least 5 defective products in the batch"
      ]
    },
    {
      "cell_type": "code",
      "metadata": {
        "id": "Q2-C1axVB-O_"
      },
      "source": [
        "def binomial_coefficient(n,k):\n",
        "    up = 1\n",
        "    for i in range(n):\n",
        "        up = up*(i+1)\n",
        "    down_left = 1\n",
        "    for i in range(k):\n",
        "        down_left = down_left*(i+1)\n",
        "    down_right = 1\n",
        "    for i in range(n-k):\n",
        "        down_right = down_right*(i+1)\n",
        "    return int(up/(down_left*down_right))"
      ],
      "execution_count": null,
      "outputs": []
    },
    {
      "cell_type": "code",
      "metadata": {
        "id": "gxRagMB5B-PF"
      },
      "source": [
        "def get_several_defective(wanted_prob_defective=0.9,prob_sample=0.1,number_of_defects=5):\n",
        "    i = number_of_defects\n",
        "    exceed = False\n",
        "    while exceed == False:\n",
        "        overall_prob = 0\n",
        "        for j in range(number_of_defects):\n",
        "            defects = j\n",
        "            non_defects = i-defects\n",
        "            overall_prob += ((1-prob_sample)**(non_defects))*((prob_sample)**(defects))*binomial_coefficient(i,defects)\n",
        "            \n",
        "        if 1-overall_prob > wanted_prob_defective:\n",
        "            exceed = True\n",
        "        else:\n",
        "            i += 1\n",
        "    return i\n",
        "get_several_defective()"
      ],
      "execution_count": null,
      "outputs": []
    },
    {
      "cell_type": "markdown",
      "metadata": {
        "id": "WuLDT7LeB-PQ"
      },
      "source": [
        "Later on, we found out someone already implemented this function... so that can be used as well:"
      ]
    },
    {
      "cell_type": "code",
      "metadata": {
        "id": "L1ioITfYB-PS"
      },
      "source": [
        "import scipy.stats\n",
        "# We need to add to the stats function the number of defectives. therefore it is the relevant nbinom.ppf + 5\n",
        "scipy.stats.nbinom.ppf(q=0.9, n=5, p=0.1, loc=0)"
      ],
      "execution_count": null,
      "outputs": []
    },
    {
      "cell_type": "markdown",
      "metadata": {
        "id": "qH5C0rUaB-Pf"
      },
      "source": [
        "#### 1.B.3\n",
        "Products are 20% defective and we want a 90% probability of at least 10 defective products in the batch"
      ]
    },
    {
      "cell_type": "code",
      "metadata": {
        "id": "lenNPt-1B-Ph"
      },
      "source": [
        "get_several_defective(0.9,0.2,10)"
      ],
      "execution_count": null,
      "outputs": []
    },
    {
      "cell_type": "code",
      "metadata": {
        "id": "Thm28lFVB-Pt"
      },
      "source": [
        "# We need to add to the stats function the number of defectives. therefore it is the relevant nbinom.ppf + 10\n",
        "scipy.stats.nbinom.ppf(q=0.9, n=10, p=0.2, loc=0) +10"
      ],
      "execution_count": null,
      "outputs": []
    },
    {
      "cell_type": "markdown",
      "metadata": {
        "id": "3haXcq1WB-P4"
      },
      "source": [
        "#### 1.C\n",
        "Can you comment on the difference between the answer 1.B.2 and that of 1.B.3?"
      ]
    },
    {
      "cell_type": "markdown",
      "metadata": {
        "id": "-lTuFDDJB-P6"
      },
      "source": [
        "more variance in 1.B.3, so more probabilty mass goes to the extremes"
      ]
    },
    {
      "cell_type": "markdown",
      "metadata": {
        "id": "mmb7nKEiB-P9"
      },
      "source": [
        "### Question 2 - Formula"
      ]
    },
    {
      "cell_type": "markdown",
      "metadata": {
        "id": "9e1be2T8B-P_"
      },
      "source": [
        "#### 2.A\n",
        "Prove (you can use what you learned in class. In particular - linearity of variance for independent random variables):"
      ]
    },
    {
      "cell_type": "markdown",
      "metadata": {
        "id": "Gb-x9FkuB-QA"
      },
      "source": [
        "$$g(n,p) = \\sum_{k=0}^{n} {n \\choose k} k^2 p^k (1-p)^{(n-k)} = np\\big(1+p(n-1)\\big)$$"
      ]
    },
    {
      "cell_type": "markdown",
      "metadata": {
        "id": "LSdq8ZscB-QB"
      },
      "source": [
        "***Answer:***<br>\n",
        "We know that: $$\\sum_{k=0}^{n} {n \\choose k} k^2 p^k (1-p)^{(n-k)} = E\\big(x^{2}\\big) $$ <br>\n",
        "And that: $$ Var(x) = E\\big(x^{2}\\big) - \\big(E(x)\\big)^{2}=np(1-p), \\quad E(x) = np $$ <br>\n",
        "Therefore, $$ np\\big(1-p\\big) = E\\big(x^{2}\\big)-(np)^{2} $$ <br>\n",
        "$$ np\\big(1-p\\big) + n^{2}p^{2} = E\\big(x^{2}\\big) $$ <br>\n",
        "$$ np\\big(1-p+np\\big) = np\\big(1+p(n-1\\big) = E\\big(x^{2}\\big) = \\sum_{k=0}^{n} {n \\choose k} k^2 p^k (1-p)^{(n-k)} $$\n",
        "Therefore, $$ g(n,p) = \\sum_{k=0}^{n} {n \\choose k} k^2 p^k (1-p)^{(n-k)} = np\\big(1+p(n-1)\\big)$$ <br><center>***Q.E.D***</center>"
      ]
    },
    {
      "cell_type": "code",
      "metadata": {
        "id": "Fi95w7aVQmoF"
      },
      "source": [],
      "execution_count": null,
      "outputs": []
    },
    {
      "cell_type": "markdown",
      "metadata": {
        "id": "ks86FhXpB-QC"
      },
      "source": [
        "#### 2.B\n",
        "Use this formula to compute  (n = 5000, p = 0.1, 0.2, 0.3). What is the complexity of this calculation, in terms of n?"
      ]
    },
    {
      "cell_type": "code",
      "metadata": {
        "id": "4Hsl9ARTB-QD"
      },
      "source": [
        "def second_raw_moment(n,p):\n",
        "    raw_2nd_moment = n*p*(1+p*(n-1)) #O(1)\n",
        "    return raw_2nd_moment\n",
        "\n",
        "second_raw_moment(5000,0.1), second_raw_moment(5000,0.2), second_raw_moment(5000,0.3)\n",
        "\n",
        "# after proving the formula, our calculation is O(1) and not dependant on n"
      ],
      "execution_count": null,
      "outputs": []
    },
    {
      "cell_type": "markdown",
      "metadata": {
        "id": "20ThjCQuB-QJ"
      },
      "source": [
        "#### 2.C\n",
        "Consider the function:\n",
        "$$f(n,p) = \\sum_{k=0}^{n} {n \\choose k} k^3 p^k (1-p)^{(n-k)}$$\n",
        "\n",
        "Describe how $f(n,p)$ can be computed using a process that requires a constant number of multiplications and additions, regardless of n.\n",
        "Use your process to compute the values of $f(n=10000, p=0.05, 0.1, 0.2, 0.3)$ in O(1).<br>\n",
        "Explain all your steps. \n",
        " "
      ]
    },
    {
      "cell_type": "markdown",
      "metadata": {
        "id": "bvYJQQPGB-QK"
      },
      "source": [
        "***Answer:***<br>\n",
        "We know that: $$\\sum_{k=0}^{n} {n \\choose k} k^3 p^k (1-p)^{(n-k)} = E\\big(x^{3}\\big) $$ <br>\n",
        "And that the central 3rd moment equals: $$ E(x-E(x))^{3} = np\\big(1-p\\big)\\big(1-2p\\big), \\quad E(x) = np, \\quad E(x^{2}) = np\\big(1+p(n-1)\\big)$$ <br>\n",
        "Now, i will develope  the central 3rd moment term:  $$ E(x-E(x))^{3} = E\\big(x^{3}-3x^{2}*E(x)+3x*E(x^{2})-E(x^{3})\\big) = $$ <br>\n",
        "$$ E(x^{3})-3E(x^{2})*E(x)+3E(x)*E(x)^{2}-E(x)^{3} = $$ <br>\n",
        "$$ E(x^{3}) -3*\\big(np\\big(1+p(n-1)\\big)*\\big(np\\big)+3*\\big(np\\big)*\\big(np\\big)^{2}-\\big(np\\big)^{3}$$ <br>\n",
        "Therefore, <br>\n",
        "<br>$$ E(x^{3}) = np\\big(1-p\\big)\\big(1-2p\\big) +3*\\big(np\\big(1+p(n-1)\\big)*\\big(np\\big)-3*\\big(np\\big)*\\big(np\\big)^{2}+\\big(np\\big)^{3} $$\n",
        "<br><center>**I will use this formula in a fucntion inorder to answer the question.</center>**\n",
        "\n"
      ]
    },
    {
      "cell_type": "code",
      "metadata": {
        "id": "TZJhKYQsB-QL"
      },
      "source": [
        "def third_raw_moment(n,p):\n",
        "    raw_3rd_moment = n*p*(1-p)*(1-2*p)+3*(n*p*(1+p*(n-1)))*n*p -3*n*p*(n*p)**2+(n*p)**3 #O(1)\n",
        "    return raw_3rd_moment\n",
        "third_raw_moment(10000,0.05), third_raw_moment(10000,0.1), third_raw_moment(10000,0.2), third_raw_moment(10000,0.3)"
      ],
      "execution_count": null,
      "outputs": []
    },
    {
      "cell_type": "markdown",
      "metadata": {
        "id": "Qtp7cV8GB-QY"
      },
      "source": [
        "### Question 3 - Rent distributions in Randomistan"
      ]
    },
    {
      "cell_type": "markdown",
      "metadata": {
        "id": "Qvo9vq4KB-QZ"
      },
      "source": [
        "\n",
        "\n",
        "The state of Randomistan conducted a survey to study the distribution of rent paid in two neighboring towns, Stochastic Heights and Random Grove, to be denoted SH and RG.<br> \n",
        "The population of SH and RG is 12K and 18K respectively. <br>\n",
        "Here are some findings of the survey:\n",
        "* The mean rent in SH and RG is 5100RCU and 3700RCU respectively.\n",
        "* The median rent is 4000RCU in both towns.\n",
        "* The IQR of the rent is smaller in SH than in RG.\n",
        "\n",
        "All data generated in this question needs to be consistent with these findings."
      ]
    },
    {
      "cell_type": "markdown",
      "metadata": {
        "id": "a9LFo-B5B-Qc"
      },
      "source": [
        "We used two approaches:\n",
        "    \n",
        "    1. To build the distribution by hand, so that it qualifies for the criteria\n",
        "    2. To write a function that takes in a distribution, and morphs it to fit the criteria"
      ]
    },
    {
      "cell_type": "markdown",
      "metadata": {
        "id": "R3tYBwEbB-Qe"
      },
      "source": [
        "Approach 1:"
      ]
    },
    {
      "cell_type": "code",
      "metadata": {
        "id": "-DrC15JrB-Qh",
        "colab": {
          "base_uri": "https://localhost:8080/",
          "height": 772
        },
        "outputId": "053b0570-d33b-4173-f140-6f24482797a7"
      },
      "source": [
        "import numpy as np\n",
        "import pandas as pd\n",
        "\n",
        "rg_size = 22000\n",
        "rg = np.array([150,350,600,1500,4000,4000,4200,4400,6000,6600,8900] * int(rg_size/11))\n",
        "rg_median = np.median(rg)\n",
        "rg_mean = np.mean(rg)\n",
        "rg_iqr = np.percentile(rg,75) - np.percentile(rg,25)\n",
        "print(\"RG Median:{}, RG Mean:{}, RG IQR:{}\".format(rg_median,rg_mean, rg_iqr))\n",
        "\n",
        "sh_size = 16000\n",
        "sh = np.array([50,300,3400,3650,4000,4000,6000,6900,8750,9600,9450] * int(sh_size/11))\n",
        "sh_median = np.median(sh)\n",
        "sh_mean = np.mean(sh)\n",
        "sh_iqr = np.percentile(sh,75) - np.percentile(sh,25)\n",
        "print(\"SH Median:{}, SH Mean:{}, SH IQR:{}\".format(sh_median,sh_mean, sh_iqr))\n",
        "\n",
        "pd.DataFrame(rg).hist(bins=100, figsize=(9,9), edgecolor=\"k\", linewidth=1)\n",
        "plt.title('RG Histogram, Scenario 1');"
      ],
      "execution_count": null,
      "outputs": [
        {
          "output_type": "stream",
          "name": "stdout",
          "text": [
            "RG Median:4000.0, RG Mean:3700.0, RG IQR:5400.0\n",
            "SH Median:4000.0, SH Mean:5100.0, SH IQR:5350.0\n"
          ]
        },
        {
          "output_type": "error",
          "ename": "NameError",
          "evalue": "ignored",
          "traceback": [
            "\u001b[0;31m---------------------------------------------------------------------------\u001b[0m",
            "\u001b[0;31mNameError\u001b[0m                                 Traceback (most recent call last)",
            "\u001b[0;32m<ipython-input-2-0b17d0db3d40>\u001b[0m in \u001b[0;36m<module>\u001b[0;34m\u001b[0m\n\u001b[1;32m     17\u001b[0m \u001b[0;34m\u001b[0m\u001b[0m\n\u001b[1;32m     18\u001b[0m \u001b[0mpd\u001b[0m\u001b[0;34m.\u001b[0m\u001b[0mDataFrame\u001b[0m\u001b[0;34m(\u001b[0m\u001b[0mrg\u001b[0m\u001b[0;34m)\u001b[0m\u001b[0;34m.\u001b[0m\u001b[0mhist\u001b[0m\u001b[0;34m(\u001b[0m\u001b[0mbins\u001b[0m\u001b[0;34m=\u001b[0m\u001b[0;36m100\u001b[0m\u001b[0;34m,\u001b[0m \u001b[0mfigsize\u001b[0m\u001b[0;34m=\u001b[0m\u001b[0;34m(\u001b[0m\u001b[0;36m9\u001b[0m\u001b[0;34m,\u001b[0m\u001b[0;36m9\u001b[0m\u001b[0;34m)\u001b[0m\u001b[0;34m,\u001b[0m \u001b[0medgecolor\u001b[0m\u001b[0;34m=\u001b[0m\u001b[0;34m\"k\"\u001b[0m\u001b[0;34m,\u001b[0m \u001b[0mlinewidth\u001b[0m\u001b[0;34m=\u001b[0m\u001b[0;36m1\u001b[0m\u001b[0;34m)\u001b[0m\u001b[0;34m\u001b[0m\u001b[0;34m\u001b[0m\u001b[0m\n\u001b[0;32m---> 19\u001b[0;31m \u001b[0mplt\u001b[0m\u001b[0;34m.\u001b[0m\u001b[0mtitle\u001b[0m\u001b[0;34m(\u001b[0m\u001b[0;34m'RG Histogram, Scenario 1'\u001b[0m\u001b[0;34m)\u001b[0m\u001b[0;34m;\u001b[0m\u001b[0;34m\u001b[0m\u001b[0;34m\u001b[0m\u001b[0m\n\u001b[0m",
            "\u001b[0;31mNameError\u001b[0m: name 'plt' is not defined"
          ]
        },
        {
          "output_type": "display_data",
          "data": {
            "text/plain": [
              "<Figure size 648x648 with 1 Axes>"
            ],
            "image/png": "[encoded data removed]"
          },
          "metadata": {
            "needs_background": "light"
          }
        }
      ]
    },
    {
      "cell_type": "code",
      "metadata": {
        "id": "UQqdjSXoB-Q5"
      },
      "source": [
        "pd.DataFrame(sh).hist(bins=100, \n",
        "                          figsize=(9,9),\n",
        "                          edgecolor=\"k\", linewidth=1)\n",
        "plt.title('SH Histogram, Scenario 1');"
      ],
      "execution_count": null,
      "outputs": []
    },
    {
      "cell_type": "code",
      "metadata": {
        "id": "0KV15drDB-RB"
      },
      "source": [
        "rg_size = 18000\n",
        "rg2 = np.array([150,350,600,1500,4000,4000,4200,4400,6000,6600,8900] * int(rg_size/11))\n",
        "rg2_median = np.median(rg2)\n",
        "rg2_mean = np.mean(rg2)\n",
        "rg2_iqr = np.percentile(rg2,75) - np.percentile(rg2,25)\n",
        "print(\"RG Median:{}, RG Mean:{}, RG IQR:{}\".format(rg2_median,rg2_mean, rg2_iqr))\n",
        "\n",
        "sh_size = 12000\n",
        "sh2 = np.array([50,300,3400,3650,4000,4000,6000,6900,8750,9600,9450] * int(sh_size/11))\n",
        "sh2_median = np.median(sh2)\n",
        "sh2_mean = np.mean(sh2)\n",
        "sh2_iqr = np.percentile(sh2,75) - np.percentile(sh2,25)\n",
        "print(\"SH Median:{}, SH Mean:{}, SH IQR:{}\".format(sh2_median,sh2_mean, sh2_iqr))"
      ],
      "execution_count": null,
      "outputs": []
    },
    {
      "cell_type": "code",
      "metadata": {
        "id": "TEbE2cPoB-RI"
      },
      "source": [
        "pd.DataFrame(rg2).hist(bins=100, \n",
        "                          figsize=(9,9),\n",
        "                          edgecolor=\"k\", linewidth=1)\n",
        "plt.title('RG Histogram, Scenario 2');"
      ],
      "execution_count": null,
      "outputs": []
    },
    {
      "cell_type": "code",
      "metadata": {
        "id": "-mZO9ilgB-RS"
      },
      "source": [
        "pd.DataFrame(sh2).hist(bins=100, \n",
        "                          figsize=(9,9),\n",
        "                          edgecolor=\"k\", linewidth=1)\n",
        "plt.title('SH Histogram, Scenario 2');"
      ],
      "execution_count": null,
      "outputs": []
    },
    {
      "cell_type": "markdown",
      "metadata": {
        "id": "Yt4Y3uEVB-RX"
      },
      "source": [
        "Approach 2:"
      ]
    },
    {
      "cell_type": "code",
      "metadata": {
        "id": "zribD2XoB-RZ"
      },
      "source": [
        "import numpy as np\n",
        "def dist_reform_upper(dist,med,mean): #input is a distribution, and it distorts it to fit!\n",
        "    sorted_dist = np.sort(dist)\n",
        "    dist = np.ndarray.tolist(sorted_dist)\n",
        "    mid_point = int(len(dist)/2)\n",
        "    current_med = dist[mid_point]\n",
        "    fixed_med = []\n",
        "    lower_sum = 0\n",
        "    for i in dist[:mid_point]:\n",
        "        fixed_med.append(i)\n",
        "        lower_sum += i\n",
        "    higher_sum = 0\n",
        "    for i in dist[mid_point:]:\n",
        "        fixed_med.append(i+med-current_med)\n",
        "        higher_sum += i+med-current_med\n",
        "    fixed_mean = []\n",
        "    current_mean = (lower_sum+higher_sum)/len(dist)\n",
        "    mean_diff = mean - current_mean\n",
        "    quanta = (mean_diff/float(len(dist[mid_point+1:])))*len(dist)\n",
        "    for i in fixed_med[:mid_point]:\n",
        "        fixed_mean.append(i)\n",
        "    fixed_mean.append(med)\n",
        "    for i in fixed_med[mid_point+1:]:\n",
        "        fixed_mean.append(i+quanta)\n",
        "    return fixed_mean\n"
      ],
      "execution_count": null,
      "outputs": []
    },
    {
      "cell_type": "markdown",
      "metadata": {
        "id": "kdHhGgwsB-Ri"
      },
      "source": [
        "#### 3.A\n",
        "Draw histograms that describe 2 different scenarii of possible distributions of rent in the two towns.\n",
        "Your histograms should:<br>\n",
        "* Use bins of 100RCU each.\n",
        "* Have at least 10 non zero bins."
      ]
    },
    {
      "cell_type": "code",
      "metadata": {
        "id": "e4o2C3TnB-Rk",
        "scrolled": true
      },
      "source": [
        "import random\n",
        "import matplotlib as mpl\n",
        "import matplotlib.pyplot as plt\n",
        "a = [random.randint(2000,5000) for i in range(12000)]\n",
        "SH_distribution = dist_reform_upper(a,4000,5100)\n",
        "b=mpl.pyplot.hist(SH_distribution, bins=[i*100 for i in range(0,120)])\n",
        "\n",
        "x = np.random.normal(size = 1000)\n",
        "plt.hist(x, bins=50)\n",
        "plt.gca().set(title='Frequency Histogram', ylabel='Frequency');"
      ],
      "execution_count": null,
      "outputs": []
    },
    {
      "cell_type": "code",
      "metadata": {
        "id": "CURtXBndB-Rs"
      },
      "source": [
        "a = [random.randint(0,600) for i in range(18000)]\n",
        "RG_distribution = dist_reform_upper(a,4000,3700)\n",
        "b=mpl.pyplot.hist(RG_distribution, bins=[i*100 for i in range(0,150)])"
      ],
      "execution_count": null,
      "outputs": []
    },
    {
      "cell_type": "markdown",
      "metadata": {
        "id": "Jn9OiSXhB-R6"
      },
      "source": [
        "#### 3.B\n",
        "Draw a histogram of a third scenario with the same properties. <br>\n",
        "In addition, in this scenario the rent in SH should have a higher variance than the rent in RG "
      ]
    },
    {
      "cell_type": "markdown",
      "metadata": {
        "id": "XeNXnnxrB-R8"
      },
      "source": [
        "Approach 1:"
      ]
    },
    {
      "cell_type": "code",
      "metadata": {
        "id": "p1kpzhyV-r5r",
        "colab": {
          "base_uri": "https://localhost:8080/"
        },
        "outputId": "8d99b0e6-ef24-47cb-b571-16d4612caef3"
      },
      "source": [
        "import numpy as np\n",
        "x = np.random.normal(loc=3700, scale=2696, size=100)\n",
        "print(x)"
      ],
      "execution_count": null,
      "outputs": [
        {
          "output_type": "stream",
          "name": "stdout",
          "text": [
            "[ 1804.01614058  5077.8262687   6873.17296977  1823.22714735\n",
            "  -502.58955383  1299.89865834  -120.32317457 -1059.4399193\n",
            "  4100.9329302   -796.91598913  7231.18360953  6580.80197871\n",
            "  3850.64152516  2255.21144111  2295.45727191 10348.22122615\n",
            "  4791.0299983   2962.6824274   4660.06068789  5681.71232605\n",
            "  4655.23186344 -2135.43854411  2472.49878996  -973.00205475\n",
            "  4847.6714783   3504.63523105  2502.4325197   1972.51967177\n",
            "  6567.71197172  6688.26116857  3360.87618599  7044.39410838\n",
            "  3449.27987337  3932.07283273  3542.96485802  -775.52755921\n",
            "  7905.11481349  4098.18586175  3032.68916389  2857.77890659\n",
            "  9025.93284701  6824.34517225  5749.50690892  4392.52039745\n",
            "  2717.91930459  -590.36626398  5990.32585627  3236.67872628\n",
            "  2941.77302571  1719.46251411  6527.70365525  5520.10269209\n",
            "  4745.21575982  9136.66508003  3321.85859921  3071.51298459\n",
            "  4301.18738249  1444.14765786  3337.80924174  2663.56394668\n",
            "  2909.1747667   7121.59455217  1539.05397613   -50.55598207\n",
            "  2535.17145499  2487.67730597 -2534.41660432   957.25494883\n",
            "  2251.29192412  4792.62797903 -1356.97194418  5445.492048\n",
            "  6694.12837963  -735.18211829  2315.777558    1708.81844047\n",
            "  3202.07740084  5418.98086019  6203.76832742  2057.6341389\n",
            "  2126.29208774  6313.51760245  4087.03055254  4843.8304742\n",
            "  4345.1841587   1470.25786638  4819.17188878  4620.97434823\n",
            "  5513.61733236  7822.66630027  3865.73044441  6084.22701599\n",
            "  7556.79045019   852.11795023   751.48045088  6875.5212967\n",
            "  4419.89264833  7244.25721778  3118.30454852  4032.37370547]\n"
          ]
        }
      ]
    },
    {
      "cell_type": "code",
      "metadata": {
        "id": "dVMuXfmaB-R-",
        "colab": {
          "base_uri": "https://localhost:8080/"
        },
        "outputId": "9b198842-ed63-4254-c9e4-e1b5f777f2fb"
      },
      "source": [
        "rg_size = 18000\n",
        "rg3 = np.array([150,1350,1500,1600,2000,4000,4200,4400,6000,7600,8900] * int(rg_size/11))\n",
        "rg3_median = np.median(rg)\n",
        "rg3_mean = np.mean(rg)\n",
        "rg3_iqr = np.percentile(rg,75) - np.percentile(rg,25)\n",
        "print(\"RG Median:{}, RG Mean:{}, RG IQR:{}\".format(rg_median,rg_mean, rg_iqr))\n",
        "\n",
        "sh_size = 12000\n",
        "sh3 = np.array([150,1150,3600,3650,4000,4000,5200,5900,8750,8600,10200] * int(sh_size/11))\n",
        "sh3_median = np.median(sh)\n",
        "sh3_mean = np.mean(sh)\n",
        "sh3_iqr = np.percentile(sh3,75) - np.percentile(sh3,25)\n",
        "print(\"SH Median:{}, SH Mean:{}, SH IQR:{}\".format(sh3_median,sh3_mean, sh3_iqr))\n",
        "\n",
        "\n",
        "sh3_var = np.var(sh)\n",
        "rg3_var = np.var(rg)\n",
        "print(\"RG VAR:{}, SH VAR:{}\".format(rg3_var , sh3_var))"
      ],
      "execution_count": null,
      "outputs": [
        {
          "output_type": "stream",
          "name": "stdout",
          "text": [
            "RG Median:4000.0, RG Mean:3700.0, RG IQR:5400.0\n",
            "SH Median:4000.0, SH Mean:5100.0, SH IQR:5000.0\n",
            "RG VAR:7266818.181818182, SH VAR:10227272.727272727\n"
          ]
        }
      ]
    },
    {
      "cell_type": "code",
      "metadata": {
        "id": "s4XTGqbDB-SI",
        "colab": {
          "base_uri": "https://localhost:8080/",
          "height": 553
        },
        "outputId": "08513a97-a13c-4219-df29-51f498b09c86"
      },
      "source": [
        "pd.DataFrame(sh3).hist(bins=100, \n",
        "                          figsize=(9,9),\n",
        "                          edgecolor=\"k\", linewidth=1)\n",
        "plt.title('SH Histogram, Scenario 3');"
      ],
      "execution_count": null,
      "outputs": [
        {
          "output_type": "display_data",
          "data": {
            "text/plain": [
              "<Figure size 648x648 with 1 Axes>"
            ],
            "image/png": "[encoded data removed]"
          },
          "metadata": {
            "needs_background": "light"
          }
        }
      ]
    },
    {
      "cell_type": "code",
      "metadata": {
        "id": "xbx7NvzYB-ST"
      },
      "source": [
        "pd.DataFrame(rg3).hist(bins=100, \n",
        "                          figsize=(9,9),\n",
        "                          edgecolor=\"k\", linewidth=1)\n",
        "plt.title('RG Histogram, Scenario 3');"
      ],
      "execution_count": null,
      "outputs": []
    },
    {
      "cell_type": "markdown",
      "metadata": {
        "id": "KAC5kPOWB-Sc"
      },
      "source": [
        "Approach 2:\n",
        "\n",
        "I added a function that increases variance, without changing the median or mean:"
      ]
    },
    {
      "cell_type": "code",
      "metadata": {
        "id": "gGWcWcauB-Se"
      },
      "source": [
        "def dist_spreader(dist):\n",
        "    mid_point = int(len(dist)/2)\n",
        "    fixed_spread = []\n",
        "    for i in dist:\n",
        "        fixed_spread.append(i)\n",
        "    for i in range(int(len(dist)/4)):\n",
        "        point1 = random.randint(0,mid_point-1)\n",
        "        point2 = random.randint(mid_point+1,len(dist)-1)\n",
        "        fixed_spread[point1] = fixed_spread[point1]-fixed_spread[point1]/3.0\n",
        "        fixed_spread[point2] = fixed_spread[point2]+fixed_spread[point1]/3.0\n",
        "    resorted = np.sort(fixed_spread)\n",
        "    fixed_spread = np.ndarray.tolist(resorted)\n",
        "    return fixed_spread"
      ],
      "execution_count": null,
      "outputs": []
    },
    {
      "cell_type": "code",
      "metadata": {
        "id": "EKxVyLJxB-Sl"
      },
      "source": [
        "b=mpl.pyplot.hist(dist_spreader(SH_distribution), bins=[i*100 for i in range(0,150)])"
      ],
      "execution_count": null,
      "outputs": []
    },
    {
      "cell_type": "markdown",
      "metadata": {
        "id": "V_MDemvFB-Su"
      },
      "source": [
        "The survey also examined the per household income (PHI) in these two places.<br>\n",
        "It found that:<br>\n",
        "* The mean of PHI in SH is 12500 and in RG is 8500\n",
        "* The median is 12000 in SH and 8000 in RG\n",
        "* The covariance of the rent and the PHI was observed to be as in the formula below with $\\alpha=97\\%$ and $\\alpha=89\\%$ in SH and in RG respectively.<br><br>\n",
        "$$Cov(rent, PHI) = \\alpha * \\sqrt{Var(rent)} * \\sqrt{Var(PHI)}$$\n",
        "\n",
        "#### 3.C\n",
        "Produce rent and PHI data for the two cities, that is consistent with these findings. The covariances in your data can deviate by up to 1% from the numbers given $\\alpha$."
      ]
    },
    {
      "cell_type": "code",
      "metadata": {
        "id": "pQpr_mhvB-S7"
      },
      "source": [
        "#The population of SH and RG is 12K and 18K respectively.\n",
        "\n",
        "import numpy as np\n",
        "sh_phi = np.array([2550,3550,5050,8050,12000,12000,14550,14600,19950,20100,25100] * int(12000/11))\n",
        "sh_phi_median = np.median(sh_phi)\n",
        "sh_phi_mean = np.mean(sh_phi)\n",
        "print(\"SH PHI Median:{}, SH PHI Mean:{}\".format(sh_phi_median,sh_phi_mean,))\n",
        "\n",
        "rg_phi = np.array([3150,4190,4600,7650,7000,8000,9000,12500,12600,12700,12110] * int(18000/11))\n",
        "rg_phi_median = np.median(rg_phi)\n",
        "rg_phi_mean = np.mean(rg_phi)\n",
        "print(\"RG PHI Median:{}, RG PHI Mean:{}\".format(rg_phi_median,rg_phi_mean,))"
      ],
      "execution_count": null,
      "outputs": []
    },
    {
      "cell_type": "code",
      "metadata": {
        "id": "EfXCgK7RB-TF"
      },
      "source": [
        "sh3 = np.array([150,1150,3600,3650,4000,4000,5200,5900,8750,8600,10200] * int(12000/11))\n",
        "rg3 = np.array([150,1350,1500,1600,2000,4000,4200,4400,6000,7600,8900] * int(18000/11))\n",
        "\n",
        "\n",
        "#Calculating the Expected Cov(rent,PHI) base on the given a\n",
        "exp_cov_sh = 0.97 * np.var(sh_phi)**0.5 * np.var(sh3)**0.5\n",
        "exp_cov_rg = 0.89 * np.var(rg_phi)**0.5 * np.var(rg3)**0.5\n",
        "exp_cov_rg, exp_cov_sh"
      ],
      "execution_count": null,
      "outputs": []
    },
    {
      "cell_type": "code",
      "metadata": {
        "id": "uw0ZcXgVB-TM"
      },
      "source": [
        "#checking the \"real\" cov based on the distributions\n",
        "cov_sh = np.cov(sh3,sh_phi)[0,1]\n",
        "cov_rg = np.cov(rg3,rg_phi)[0,1]\n",
        "#the ratio shouldent be greater / smaller then 1%\n",
        "cov_rg/exp_cov_rg , cov_sh/exp_cov_sh"
      ],
      "execution_count": null,
      "outputs": []
    },
    {
      "cell_type": "markdown",
      "metadata": {
        "id": "rYkHQieiB-TU"
      },
      "source": [
        "#### 3.D\n",
        "Produce two heatmaps that describe these two bivariate joint distributions. Make sure you carefully consider the selcted bining resolution."
      ]
    },
    {
      "cell_type": "code",
      "metadata": {
        "id": "Ie1szT3MB-TW"
      },
      "source": [
        "plt.hist2d(x=rg,y=rg_phi,cmap='inferno',bins=5)\n",
        "plt.xlabel('RG Rent')\n",
        "plt.ylabel('RG PHI')\n",
        "plt.show()"
      ],
      "execution_count": null,
      "outputs": []
    },
    {
      "cell_type": "code",
      "metadata": {
        "id": "D8uYaIxiB-Tg"
      },
      "source": [
        "plt.hist2d(x=sh,y=sh_phi,cmap='viridis',bins=5)\n",
        "plt.xlabel('SH Rent')\n",
        "plt.ylabel('SH PHI')\n",
        "plt.show()"
      ],
      "execution_count": null,
      "outputs": []
    },
    {
      "cell_type": "markdown",
      "metadata": {
        "id": "W99DWxKMB-To"
      },
      "source": [
        "### Question 4 - Covariance and independence"
      ]
    },
    {
      "cell_type": "markdown",
      "metadata": {
        "id": "epn5lIHNB-Tq"
      },
      "source": [
        "#### 4.A\n",
        "Define two random variables X and Y over the same probability space so that<br>\n",
        "* E(X) = the sum of digits of the date you were born on (sum of all in DD/MM/YYYY)\n",
        "* E(Y) = the sum of the two last digits of your id number\n",
        "\n",
        "And so that X and Y are:\n",
        "* NOT correlated (Cov(X,Y) = 0) and NOT independent."
      ]
    },
    {
      "cell_type": "markdown",
      "metadata": {
        "id": "hRJ0_-o5B-Tr"
      },
      "source": [
        "our birthdates: (17.8.1996,11.5.1990) -> E(x) = 67\n",
        "sum of last 2 digits in ID: (8,10) -> E(y) = 18\n",
        "our probability space will be [16,17,19,20,66,68].\n",
        "\n",
        "P(X) = [0,0,0,0,0.5,0.5]\n",
        "\n",
        "P(Y) = [0.25,0.25,0.25,0.25,0,0]\n"
      ]
    },
    {
      "cell_type": "markdown",
      "metadata": {
        "id": "fo2jXEdtB-Ts"
      },
      "source": [
        "this is the probability table:"
      ]
    },
    {
      "cell_type": "markdown",
      "metadata": {
        "id": "vHnggOQ_B-Tu"
      },
      "source": [
        "x/y   | 16 | 17 | 19 | 20 | 66 | 68\n",
        "\n",
        "16    | 0  | 0  | 0  | 0  | 0  |0.25\n",
        "\n",
        "17    | 0  | 0  | 0  | 0  |0.25| 0\n",
        "\n",
        "19    | 0  | 0  | 0  | 0  |0.25| 0\n",
        "\n",
        "20    | 0  | 0  | 0  | 0  | 0  |0.25\n",
        "\n",
        "66    | 0  | 0  | 0  | 0  | 0  | 0\n",
        "\n",
        "68    | 0  | 0  | 0  | 0  | 0  | 0\n"
      ]
    },
    {
      "cell_type": "markdown",
      "metadata": {
        "id": "h9tBTp_gB-Tw"
      },
      "source": [
        "#### 4.B\n",
        "Can you define random variables that are independent and so that Cov(X,Y) > 0?<br>\n",
        "Explain.\n"
      ]
    },
    {
      "cell_type": "markdown",
      "metadata": {
        "id": "idN6YUhmB-Tz"
      },
      "source": [
        "no, because Cov(x,y) = E(x*y)-E(x)*E(y). Independent means that for every cell in the probability table, it's value is P(xi)*P(yi). (integer random variables are easier to explain)"
      ]
    },
    {
      "cell_type": "markdown",
      "metadata": {
        "id": "SMhcBfbOB-T1"
      },
      "source": [
        "### Question 5 - Convolutions"
      ]
    },
    {
      "cell_type": "markdown",
      "metadata": {
        "id": "XtKeM-ILB-T6"
      },
      "source": [
        "#### 5.A\n",
        "Write a program, `Q = NFoldConv(P , n)`, that takes as input:\n",
        "* A distribution, P, of a random variable that takes finitely many integer values\n",
        "* An integer n\n",
        "\n",
        "and produces the distribution, Q, of the sum of n independent repeats of random variables, each of which has the distribution P."
      ]
    },
    {
      "cell_type": "code",
      "metadata": {
        "id": "LYL6HdvFIGWi"
      },
      "source": [
        "from scipy.stats import rv_discrete"
      ],
      "execution_count": null,
      "outputs": []
    },
    {
      "cell_type": "code",
      "metadata": {
        "id": "wwNRlt4bB-T8"
      },
      "source": [
        "def NFoldConv(P , n):\n",
        "    Q = {}\n",
        "    if n == 0:\n",
        "        return {}\n",
        "    if n == 1:\n",
        "        for i in range(len(P[0])):\n",
        "            Q[P[0][i]] = P[1][i]\n",
        "        return Q\n",
        "    Q_2 = NFoldConv(P, n-1)\n",
        "    for i in Q_2:\n",
        "        for j in range(len(P[0])):\n",
        "            if P[0][j]+float(i) in Q_2:\n",
        "                Q[P[0][j]+float(i)] += P[1][j]*Q_2[i]\n",
        "            else:\n",
        "                Q[P[0][j]+float(i)] = P[1][j]*Q_2[i]\n",
        "    return Q"
      ],
      "execution_count": null,
      "outputs": []
    },
    {
      "cell_type": "code",
      "metadata": {
        "id": "XdO_72fOIBYu"
      },
      "source": [
        "def NFoldConv(P , n):\n",
        "    if n == 1:\n",
        "        return P\n",
        "    if n == 2:\n",
        "        return conpair(P,P)\n",
        "    z = conpair(P,P)\n",
        "    for i in range(n-2):\n",
        "        z = conpair(z,P)\n",
        "    return z"
      ],
      "execution_count": null,
      "outputs": []
    },
    {
      "cell_type": "markdown",
      "metadata": {
        "id": "F24_-RguB-UF"
      },
      "source": [
        "#### 5.B\n",
        "Compute the distribution of the sum of the results of rolling a fair dice 8 times"
      ]
    },
    {
      "cell_type": "code",
      "metadata": {
        "id": "9a1nsjuPB-Up",
        "colab": {
          "base_uri": "https://localhost:8080/",
          "height": 300
        },
        "outputId": "0eb6cf91-c462-4cb4-952f-9e0e03cc13ad"
      },
      "source": [
        "P = rv_discrete(values=([1,2,3,4],[1/4,1/4,1/4,1/4]))\n",
        "NFoldConv([[-1,0,1,2,3],[0.2,0.25,0.35,0.05,0.15]], 2) #after 2 days"
      ],
      "execution_count": null,
      "outputs": [
        {
          "output_type": "error",
          "ename": "NameError",
          "evalue": "ignored",
          "traceback": [
            "\u001b[0;31m---------------------------------------------------------------------------\u001b[0m",
            "\u001b[0;31mNameError\u001b[0m                                 Traceback (most recent call last)",
            "\u001b[0;32m<ipython-input-19-ac0a09ebc0ef>\u001b[0m in \u001b[0;36m<module>\u001b[0;34m\u001b[0m\n\u001b[1;32m      1\u001b[0m \u001b[0mP\u001b[0m \u001b[0;34m=\u001b[0m \u001b[0mrv_discrete\u001b[0m\u001b[0;34m(\u001b[0m\u001b[0mvalues\u001b[0m\u001b[0;34m=\u001b[0m\u001b[0;34m(\u001b[0m\u001b[0;34m[\u001b[0m\u001b[0;36m1\u001b[0m\u001b[0;34m,\u001b[0m\u001b[0;36m2\u001b[0m\u001b[0;34m,\u001b[0m\u001b[0;36m3\u001b[0m\u001b[0;34m,\u001b[0m\u001b[0;36m4\u001b[0m\u001b[0;34m]\u001b[0m\u001b[0;34m,\u001b[0m\u001b[0;34m[\u001b[0m\u001b[0;36m1\u001b[0m\u001b[0;34m/\u001b[0m\u001b[0;36m4\u001b[0m\u001b[0;34m,\u001b[0m\u001b[0;36m1\u001b[0m\u001b[0;34m/\u001b[0m\u001b[0;36m4\u001b[0m\u001b[0;34m,\u001b[0m\u001b[0;36m1\u001b[0m\u001b[0;34m/\u001b[0m\u001b[0;36m4\u001b[0m\u001b[0;34m,\u001b[0m\u001b[0;36m1\u001b[0m\u001b[0;34m/\u001b[0m\u001b[0;36m4\u001b[0m\u001b[0;34m]\u001b[0m\u001b[0;34m)\u001b[0m\u001b[0;34m)\u001b[0m\u001b[0;34m\u001b[0m\u001b[0;34m\u001b[0m\u001b[0m\n\u001b[0;32m----> 2\u001b[0;31m \u001b[0mNFoldConv\u001b[0m\u001b[0;34m(\u001b[0m\u001b[0;34m[\u001b[0m\u001b[0;34m[\u001b[0m\u001b[0;34m-\u001b[0m\u001b[0;36m1\u001b[0m\u001b[0;34m,\u001b[0m\u001b[0;36m0\u001b[0m\u001b[0;34m,\u001b[0m\u001b[0;36m1\u001b[0m\u001b[0;34m,\u001b[0m\u001b[0;36m2\u001b[0m\u001b[0;34m,\u001b[0m\u001b[0;36m3\u001b[0m\u001b[0;34m]\u001b[0m\u001b[0;34m,\u001b[0m\u001b[0;34m[\u001b[0m\u001b[0;36m0.2\u001b[0m\u001b[0;34m,\u001b[0m\u001b[0;36m0.25\u001b[0m\u001b[0;34m,\u001b[0m\u001b[0;36m0.35\u001b[0m\u001b[0;34m,\u001b[0m\u001b[0;36m0.05\u001b[0m\u001b[0;34m,\u001b[0m\u001b[0;36m0.15\u001b[0m\u001b[0;34m]\u001b[0m\u001b[0;34m]\u001b[0m\u001b[0;34m,\u001b[0m \u001b[0;36m2\u001b[0m\u001b[0;34m)\u001b[0m \u001b[0;31m#after 2 days\u001b[0m\u001b[0;34m\u001b[0m\u001b[0;34m\u001b[0m\u001b[0m\n\u001b[0m",
            "\u001b[0;32m<ipython-input-18-49b959745451>\u001b[0m in \u001b[0;36mNFoldConv\u001b[0;34m(P, n)\u001b[0m\n\u001b[1;32m      3\u001b[0m         \u001b[0;32mreturn\u001b[0m \u001b[0mP\u001b[0m\u001b[0;34m\u001b[0m\u001b[0;34m\u001b[0m\u001b[0m\n\u001b[1;32m      4\u001b[0m     \u001b[0;32mif\u001b[0m \u001b[0mn\u001b[0m \u001b[0;34m==\u001b[0m \u001b[0;36m2\u001b[0m\u001b[0;34m:\u001b[0m\u001b[0;34m\u001b[0m\u001b[0;34m\u001b[0m\u001b[0m\n\u001b[0;32m----> 5\u001b[0;31m         \u001b[0;32mreturn\u001b[0m \u001b[0mconpair\u001b[0m\u001b[0;34m(\u001b[0m\u001b[0mP\u001b[0m\u001b[0;34m,\u001b[0m\u001b[0mP\u001b[0m\u001b[0;34m)\u001b[0m\u001b[0;34m\u001b[0m\u001b[0;34m\u001b[0m\u001b[0m\n\u001b[0m\u001b[1;32m      6\u001b[0m     \u001b[0mz\u001b[0m \u001b[0;34m=\u001b[0m \u001b[0mconpair\u001b[0m\u001b[0;34m(\u001b[0m\u001b[0mP\u001b[0m\u001b[0;34m,\u001b[0m\u001b[0mP\u001b[0m\u001b[0;34m)\u001b[0m\u001b[0;34m\u001b[0m\u001b[0;34m\u001b[0m\u001b[0m\n\u001b[1;32m      7\u001b[0m     \u001b[0;32mfor\u001b[0m \u001b[0mi\u001b[0m \u001b[0;32min\u001b[0m \u001b[0mrange\u001b[0m\u001b[0;34m(\u001b[0m\u001b[0mn\u001b[0m\u001b[0;34m-\u001b[0m\u001b[0;36m2\u001b[0m\u001b[0;34m)\u001b[0m\u001b[0;34m:\u001b[0m\u001b[0;34m\u001b[0m\u001b[0;34m\u001b[0m\u001b[0m\n",
            "\u001b[0;31mNameError\u001b[0m: name 'conpair' is not defined"
          ]
        }
      ]
    },
    {
      "cell_type": "code",
      "metadata": {
        "id": "i3EVqFToB-UH",
        "colab": {
          "base_uri": "https://localhost:8080/",
          "height": 283
        },
        "outputId": "684ab0c5-c850-4fa6-8472-4e7bee1e7446"
      },
      "source": [
        "NFoldConv([[1,2,3,4,5,6],[1.0/6 for i in range(6)]], 4)"
      ],
      "execution_count": null,
      "outputs": [
        {
          "output_type": "error",
          "ename": "NameError",
          "evalue": "ignored",
          "traceback": [
            "\u001b[0;31m---------------------------------------------------------------------------\u001b[0m",
            "\u001b[0;31mNameError\u001b[0m                                 Traceback (most recent call last)",
            "\u001b[0;32m<ipython-input-20-b599960900ab>\u001b[0m in \u001b[0;36m<module>\u001b[0;34m\u001b[0m\n\u001b[0;32m----> 1\u001b[0;31m \u001b[0mNFoldConv\u001b[0m\u001b[0;34m(\u001b[0m\u001b[0;34m[\u001b[0m\u001b[0;34m[\u001b[0m\u001b[0;36m1\u001b[0m\u001b[0;34m,\u001b[0m\u001b[0;36m2\u001b[0m\u001b[0;34m,\u001b[0m\u001b[0;36m3\u001b[0m\u001b[0;34m,\u001b[0m\u001b[0;36m4\u001b[0m\u001b[0;34m,\u001b[0m\u001b[0;36m5\u001b[0m\u001b[0;34m,\u001b[0m\u001b[0;36m6\u001b[0m\u001b[0;34m]\u001b[0m\u001b[0;34m,\u001b[0m\u001b[0;34m[\u001b[0m\u001b[0;36m1.0\u001b[0m\u001b[0;34m/\u001b[0m\u001b[0;36m6\u001b[0m \u001b[0;32mfor\u001b[0m \u001b[0mi\u001b[0m \u001b[0;32min\u001b[0m \u001b[0mrange\u001b[0m\u001b[0;34m(\u001b[0m\u001b[0;36m6\u001b[0m\u001b[0;34m)\u001b[0m\u001b[0;34m]\u001b[0m\u001b[0;34m]\u001b[0m\u001b[0;34m,\u001b[0m \u001b[0;36m4\u001b[0m\u001b[0;34m)\u001b[0m\u001b[0;34m\u001b[0m\u001b[0;34m\u001b[0m\u001b[0m\n\u001b[0m",
            "\u001b[0;32m<ipython-input-18-49b959745451>\u001b[0m in \u001b[0;36mNFoldConv\u001b[0;34m(P, n)\u001b[0m\n\u001b[1;32m      4\u001b[0m     \u001b[0;32mif\u001b[0m \u001b[0mn\u001b[0m \u001b[0;34m==\u001b[0m \u001b[0;36m2\u001b[0m\u001b[0;34m:\u001b[0m\u001b[0;34m\u001b[0m\u001b[0;34m\u001b[0m\u001b[0m\n\u001b[1;32m      5\u001b[0m         \u001b[0;32mreturn\u001b[0m \u001b[0mconpair\u001b[0m\u001b[0;34m(\u001b[0m\u001b[0mP\u001b[0m\u001b[0;34m,\u001b[0m\u001b[0mP\u001b[0m\u001b[0;34m)\u001b[0m\u001b[0;34m\u001b[0m\u001b[0;34m\u001b[0m\u001b[0m\n\u001b[0;32m----> 6\u001b[0;31m     \u001b[0mz\u001b[0m \u001b[0;34m=\u001b[0m \u001b[0mconpair\u001b[0m\u001b[0;34m(\u001b[0m\u001b[0mP\u001b[0m\u001b[0;34m,\u001b[0m\u001b[0mP\u001b[0m\u001b[0;34m)\u001b[0m\u001b[0;34m\u001b[0m\u001b[0;34m\u001b[0m\u001b[0m\n\u001b[0m\u001b[1;32m      7\u001b[0m     \u001b[0;32mfor\u001b[0m \u001b[0mi\u001b[0m \u001b[0;32min\u001b[0m \u001b[0mrange\u001b[0m\u001b[0;34m(\u001b[0m\u001b[0mn\u001b[0m\u001b[0;34m-\u001b[0m\u001b[0;36m2\u001b[0m\u001b[0;34m)\u001b[0m\u001b[0;34m:\u001b[0m\u001b[0;34m\u001b[0m\u001b[0;34m\u001b[0m\u001b[0m\n\u001b[1;32m      8\u001b[0m         \u001b[0mz\u001b[0m \u001b[0;34m=\u001b[0m \u001b[0mconpair\u001b[0m\u001b[0;34m(\u001b[0m\u001b[0mz\u001b[0m\u001b[0;34m,\u001b[0m\u001b[0mP\u001b[0m\u001b[0;34m)\u001b[0m\u001b[0;34m\u001b[0m\u001b[0;34m\u001b[0m\u001b[0m\n",
            "\u001b[0;31mNameError\u001b[0m: name 'conpair' is not defined"
          ]
        }
      ]
    },
    {
      "cell_type": "code",
      "metadata": {
        "id": "JBUhrFHR4AHh",
        "colab": {
          "base_uri": "https://localhost:8080/"
        },
        "outputId": "b383a7b7-700d-4875-eab3-56b40f6320dc"
      },
      "source": [
        "print({4: 0.0007716049382716049, 5: 0.0030864197530864196, 6: 0.007716049382716049, 7: 0.015432098765432098, 8: 0.02700617283950617, 9: 0.043209876543209874, 10: 0.061728395061728385, 11: 0.08024691358024691, 12: 0.0964506172839506, 13: 0.10802469135802469, 14: 0.11265432098765431, 15: 0.10802469135802469, 16: 0.0964506172839506, 17: 0.08024691358024691, 18: 0.06172839506172839, 19: 0.04320987654320989, 20: 0.02700617283950617, 21: 0.015432098765432098, 22: 0.007716049382716049, 23: 0.0030864197530864196, 24: 0.0007716049382716049})"
      ],
      "execution_count": null,
      "outputs": [
        {
          "output_type": "stream",
          "name": "stdout",
          "text": [
            "{4: 0.0007716049382716049, 5: 0.0030864197530864196, 6: 0.007716049382716049, 7: 0.015432098765432098, 8: 0.02700617283950617, 9: 0.043209876543209874, 10: 0.061728395061728385, 11: 0.08024691358024691, 12: 0.0964506172839506, 13: 0.10802469135802469, 14: 0.11265432098765431, 15: 0.10802469135802469, 16: 0.0964506172839506, 17: 0.08024691358024691, 18: 0.06172839506172839, 19: 0.04320987654320989, 20: 0.02700617283950617, 21: 0.015432098765432098, 22: 0.007716049382716049, 23: 0.0030864197530864196, 24: 0.0007716049382716049}\n"
          ]
        }
      ]
    },
    {
      "cell_type": "markdown",
      "metadata": {
        "id": "5qf7OC0vB-UV"
      },
      "source": [
        "Let us plot the results:"
      ]
    },
    {
      "cell_type": "code",
      "metadata": {
        "id": "wQlXL0jLB-UX"
      },
      "source": [
        "def show_graph(dist,low,high):\n",
        "    prob_array = []\n",
        "    for i in range(low,high+1):\n",
        "        prob_array.append(dist[float(i)])\n",
        "    plt.plot([i for i in range(low,high+1)], prob_array)"
      ],
      "execution_count": null,
      "outputs": []
    },
    {
      "cell_type": "code",
      "metadata": {
        "id": "KmLaIiATB-Ue"
      },
      "source": [
        "show_graph(NFoldConv([[1,2,3,4,5,6],[1.0/6 for i in range(6)]], 8),8,48)"
      ],
      "execution_count": null,
      "outputs": []
    },
    {
      "cell_type": "markdown",
      "metadata": {
        "id": "FL9qo_KoB-Un"
      },
      "source": [
        "#### 5.C\n",
        "Assume that the price of a stock changes in any given day according to (in NIS):\n",
        "$$P=\\begin{pmatrix}\n",
        "-1 & 0 & 1 & 2 & 3 \\\\\n",
        "0.2 & 0.25 & 0.35 & 0.05 & 0.15\n",
        "\\end{pmatrix}$$\n",
        "\n",
        "1. What is the distribution of the change in stock after 2 consecutive days of (independent) changes? After 5 consecutive days? "
      ]
    },
    {
      "cell_type": "code",
      "metadata": {
        "id": "Hp48r-d4B-U2"
      },
      "source": [
        "NFoldConv([[-1,0,1,2,3],[0.2,0.25,0.35,0.05,0.15]], 5) #after 5 days"
      ],
      "execution_count": null,
      "outputs": []
    },
    {
      "cell_type": "code",
      "metadata": {
        "id": "1rxA0oNYB-VA"
      },
      "source": [
        "NFoldConv([[-1,0,1,2,3],[0.2,0.25,0.35,0.05,0.15]], 8)"
      ],
      "execution_count": null,
      "outputs": []
    },
    {
      "cell_type": "markdown",
      "metadata": {
        "id": "FkrG-rshB-VT"
      },
      "source": [
        "2. What is the probability that the stock has gained strictly more than 7NIS after 5 days? \n",
        "Has lost strictly more than 7NIS?"
      ]
    },
    {
      "cell_type": "code",
      "metadata": {
        "id": "roaUIFibB-VX"
      },
      "source": [
        "after_five_days = NFoldConv([[-1,0,1,2,3],[0.2,0.25,0.35,0.05,0.15]], 5)\n",
        "prob_more_than_7 = 0\n",
        "prob_less_than_7 = 0\n",
        "for i in after_five_days:\n",
        "    if int(i) > 7:\n",
        "        prob_more_than_7 += after_five_days[i]\n",
        "    if int(i) < 7:\n",
        "        prob_less_than_7 += after_five_days[i]\n",
        "print('probability of more than 7 is '+str(prob_more_than_7)+', probability of less than 7 is '+str(prob_less_than_7))"
      ],
      "execution_count": null,
      "outputs": []
    },
    {
      "cell_type": "markdown",
      "metadata": {
        "id": "RKiC9i38B-Vg"
      },
      "source": [
        "### Question 6 - Poisson mode"
      ]
    },
    {
      "cell_type": "markdown",
      "metadata": {
        "id": "_3db38yiB-Vi"
      },
      "source": [
        "Let $X\\sim{}Poi(λ)$<br>\n",
        "#### 6.A\n",
        "Find the mode of X and prove your calculation."
      ]
    },
    {
      "cell_type": "markdown",
      "metadata": {
        "id": "mI9vtr67B-Vj"
      },
      "source": [
        "***Answer:*** <br>\n",
        "We know that $ 0\\leq k$ now we will try to understand the connection between $p_{k-1}$ and $p_k$: <br>\n",
        "<br>$$p_k = e^{-λ}*λ^{k}/{k!} = e^{-λ} * λ^{k-1}/{(k-1)!}*λ/k = p_{k-1} * λ/k$$ <br>\n",
        "<centerd>Therefore, when $λ/k > 1$ then $p_k > p_{k-1}$ and when $λ/k < 1$ then $p_k < p_{k-1}$</centerd><br>\n",
        "We can see that , $p_k$ as a function of $k$ is getting larger at first and then getting smaller.<br>\n",
        "<br>If $λ<1$, then $P[X=0] > P[X=1] > P[X=2]$ ... the mode is 0.<br>\n",
        "If $λ>1$ is not an integer, then the mode is $\\lfloorλ\\rfloor$<br>\n",
        "If $λ$ is an integer $n$, then $P[X=n] = P[X=n-1]$  so either $λ=n$ or $λ=n-1$ are the mode of $X$."
      ]
    },
    {
      "cell_type": "code",
      "metadata": {
        "id": "gL8UDR37B-Vl"
      },
      "source": [
        "import numpy as np\n",
        "import math\n",
        "def poison_mode(pois_lambda):\n",
        "    if pois_lambda < 1:\n",
        "        mode = 0\n",
        "    elif (pois_lambda - np.int(pois_lambda)) == 0:\n",
        "        mode = [pois_lambda, pois_lambda-1]\n",
        "    else:\n",
        "        mode = math.floor(pois_lambda)\n",
        "    return mode\n",
        "\n",
        "#calculation for the given λ\n",
        "print('The mode for λ=4 is {}'.format(poison_mode(4)))\n",
        "\n",
        "print('The mode for λ=9.3 is {}'.format(poison_mode(9.3)))\n",
        "\n",
        "print('The mode for λ=25.8 is {}'.format(poison_mode(25.8)))\n"
      ],
      "execution_count": null,
      "outputs": []
    },
    {
      "cell_type": "markdown",
      "metadata": {
        "id": "ZrTb_j3JB-Vx"
      },
      "source": [
        "#### 6.B\n",
        "Plot the pdf of $X$ for $\\lambda=4, \\lambda=9.3, \\lambda=25.8$.<br>\n",
        "Show the following quantities on your plots:\n",
        "* The mode of $X$\n",
        "* The median of $X$\n",
        "* $\\mu(X)$"
      ]
    },
    {
      "cell_type": "code",
      "metadata": {
        "id": "KtpUN-1yB-Vy"
      },
      "source": [
        "import numpy as np\n",
        "import matplotlib.pyplot as plt\n",
        "from scipy.special import factorial\n",
        "from scipy.stats import poisson\n",
        "\n",
        "\n",
        "t = np.arange(0, 50, 0.01)\n",
        "\n",
        "d1 = np.exp(-4)*np.power(4, t)/factorial(t)\n",
        "plt.plot(t, d1, 'b', label='λ = 4',ls='--')\n",
        "d2 = np.exp(-9.3)*np.power(9.3, t)/factorial(t)\n",
        "plt.plot(t, d2, color='r',label = 'λ = 9.3',ls='--' )\n",
        "d3 = np.exp(-25.8)*np.power(25.8, t)/factorial(t)\n",
        "plt.plot(t, d3, color='y',label='λ = 25.8',ls='--')\n",
        "\n",
        "median_lam=poisson.median(np.array([4,9.3,25.8]),loc=0)\n",
        "plt.vlines(median_lam,0,0.22,colors='m', linestyles='--' , label='median') \n",
        "\n",
        "mean_lam = poisson.mean(np.array([4,9,25,8]), loc=0)\n",
        "plt.vlines(mean_lam,0,0.22,colors='c', linestyles='--' , label='mean') \n",
        "\n",
        "mode_lam =np.array([3,4,9,25])\n",
        "plt.vlines(mode_lam,0,0.22,colors='g', linestyles='--' , label='mode') \n",
        "\n",
        "plt.title(\"all λ\")\n",
        "plt.legend(); plt.xlabel('k') ; plt.ylabel('p(x=k)')\n",
        "plt.grid() \n",
        "fig, axes = plt.subplots(1,3, figsize=(16,8))\n",
        "axes[0].plot(t, d1, 'b', label='λ=4',ls='--')\n",
        "axes[0].set_title(\"λ = 4\")\n",
        "axes[1].plot(t, d2, color='r',label = 'λ=9.3',ls='--' )\n",
        "axes[1].set_title(\"λ = 9.3\")\n",
        "\n",
        "axes[2].plot(t, d3, color='y',label='λ=25.8',ls='--')\n",
        "axes[2].set_title(\"λ = 25.8\")\n",
        "\n",
        "axes[0].vlines(poisson.median(4,loc=0),0,0.22,colors='m', linestyles='--' , label='median') \n",
        "axes[1].vlines(poisson.median(9.3,loc=0),0,0.22,colors='m', linestyles='--' , label='median ') \n",
        "axes[2].vlines(poisson.median(25.8,loc=0),0,0.22,colors='m', linestyles='--' , label='median') \n",
        "\n",
        "axes[0].vlines(poisson.mean(4,loc=0),0,0.22,colors='c', linestyles='--' , label='mean') \n",
        "axes[1].vlines(poisson.mean(9.3,loc=0),0,0.22,colors='c', linestyles='--' , label='mean') \n",
        "axes[2].vlines(poisson.mean(25.8,loc=0),0,0.22,colors='c', linestyles='--' , label='mean') \n",
        "\n",
        "axes[0].vlines(4,0,0.22,colors='g', linestyles='--' , label='mode1') \n",
        "axes[0].vlines(3,0,0.22,colors='g', linestyles='--' , label='mode2') \n",
        "axes[1].vlines(9,0,0.22,colors='g', linestyles='--' , label='mode') \n",
        "axes[2].vlines(25,0,0.22,colors='g', linestyles='--' , label='mode') \n",
        "\n",
        "axes[0].legend() ; axes[0].set_xlabel('k') ; axes[0].set_ylabel('p(x=k)')\n",
        "axes[1].legend();  axes[1].set_xlabel('k'); axes[1].set_ylabel('p(x=k)')\n",
        "axes[2].legend(); axes[2].set_xlabel('k'); axes[2].set_ylabel('p(x=k)')\n",
        "plt.grid()\n",
        "\n",
        "plt.grid()\n",
        "axes[0].grid()\n",
        "axes[1].grid()\n",
        "axes[2].grid()\n",
        "\n",
        "plt.show()"
      ],
      "execution_count": null,
      "outputs": []
    },
    {
      "cell_type": "code",
      "metadata": {
        "id": "A4rRtGZ2KO0E"
      },
      "source": [
        "import pracpred.prob as ppp\n",
        "d6 = ppp.ProbDist(range(1,7))"
      ],
      "execution_count": null,
      "outputs": []
    },
    {
      "cell_type": "code",
      "metadata": {
        "id": "Y6sD1fzS6AcM"
      },
      "source": [
        "median = 4600\n",
        "mean = 6300\n",
        "rent_list = [median for i in range(100)] \n",
        "p_decrease = .1\n",
        "\n",
        "for i in range(1,(len(rent_list)//2)):\n",
        "    rent_list[i] = round(rent_list[i - 1] - (rent_list[i - 1]*p_decrease))\n",
        "\n",
        "rent_list.sort()\n",
        "\n",
        "p_increase = .03    \n",
        "\n",
        "for i in range((len(rent_list)//2),len(rent_list)-11):\n",
        "    rent_list[i] = round(rent_list[i - 1] + (rent_list[i - 1]*p_increase))\n",
        "    \n",
        "compound_sum = 0\n",
        "for i in range(10):\n",
        "    compound_sum += (1 + p_increase)**i \n",
        "    \n",
        "rent_list[89] = ((mean*100) - sum(rent_list[:len(rent_list)-11])) / compound_sum\n",
        "\n",
        "for i in range(len(rent_list)-10, len(rent_list)):\n",
        "    rent_list[i] = rent_list[i - 1]*(1 + p_increase)\n",
        "    \n",
        "print(np.mean(rent_list))"
      ],
      "execution_count": null,
      "outputs": []
    }
  ]
}