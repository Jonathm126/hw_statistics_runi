{
 "cells": [
  {
   "cell_type": "markdown",
   "metadata": {},
   "source": [
    "### IDs:\n",
    "Insert yours IDs to the cell below"
   ]
  },
  {
   "cell_type": "markdown",
   "metadata": {},
   "source": [
    "ID #1:310116165\n",
    "\n",
    "ID #2:308564293\n"
   ]
  },
  {
   "cell_type": "markdown",
   "metadata": {},
   "source": [
    "## Read the following instructions carefully:\n",
    "\n",
    "1. This jupyter notebook contains all the step by step instructions needed for this exercise.\n",
    "1. You are free to add cells.\n",
    "1. Write your functions and your answers in this jupyter notebook only.\n",
    "1. Answers to theoretical questions should be written in **markdown cells (with $\\LaTeX$ support)**.\n",
    "1. Submit this jupyter notebook only using your ID as a filename. Not to use ZIP or RAR. For example, your Moodle submission file name should look like this (two id numbers): `123456789_987654321.ipynb`."
   ]
  },
  {
   "cell_type": "markdown",
   "metadata": {},
   "source": [
    "### Question 1 - Data exploration and visialization - practical"
   ]
  },
  {
   "cell_type": "markdown",
   "metadata": {},
   "source": [
    "Load Boston dataset from sklearn.\n",
    "Explore the data. follow th instructions below and make sure to support your answers with proper outputs and plots.\n",
    "When plotting, pay close attention to the range of the axis, and include axis labels and a title for the figure.\n",
    "\n",
    "1. Describe the dataset. How many samples does it contain? How many features? What is the data type for each variable?\n",
    "2. Produce a histogram and a boxplot of the nitric oxides concentration. describe the distribution.\n",
    "3. Produce a correlation matrix of all the features. Are there any correlated features? Can you identify one feature with unusual behaviour?\n",
    "4. Select the 2 pairs of features with the highest correlation (positive or negative) and plot 2 scatter plots with marginal histograms (JointPlot). \n",
    "5. Produce a cumulative histogram of the age variable and add two horizontal lines on the first and third quartile (on the cumulative count)\n",
    "6. Identify and report 2 “interesting” trends in the data. No need to provide statistical confidence at this point. "
   ]
  },
  {
   "cell_type": "code",
   "execution_count": 1,
   "metadata": {},
   "outputs": [
    {
     "ename": "SyntaxError",
     "evalue": "invalid syntax (1165197209.py, line 5)",
     "output_type": "error",
     "traceback": [
      "\u001b[0;36m  Cell \u001b[0;32mIn[1], line 5\u001b[0;36m\u001b[0m\n\u001b[0;31m    df=pd.read_...\u001b[0m\n\u001b[0m               ^\u001b[0m\n\u001b[0;31mSyntaxError\u001b[0m\u001b[0;31m:\u001b[0m invalid syntax\n"
     ]
    }
   ],
   "source": [
    "# <!-- <p style=\"color:red;\"> -->\n",
    "%pylab inline \n",
    "import pandas as pd\n",
    "\n",
    "df=pd.read_...\n",
    "# answer to 1 \n",
    "df.info()\n",
    "df.describe()\n",
    "# answer to 2\n",
    "df.nitric_oxide_concentration.hist(kind=\"hist\")\n",
    "df.nitric_oxide_concentration.plot(kind=\"box\")\n",
    "\n",
    "# answer to 3\n",
    "corr_mat = df.corr()\n",
    "\n",
    "# answer to 4\n",
    "most_extreme_pair = corr_mat.stack().apply(np.abs).idxmax()\n",
    "# some code that does joint plot.. \n",
    "# answer to 5 \n",
    "age_cumsum = df.age.sort_values().cumsum()\n",
    "age_cumsum.hist()\n",
    "first_quartile = np.quantile(age_cumsum,0.25)\n",
    "third_quartile = np.quantile(age_cumsum,0.75)\n",
    "plt.plot([first_quartile]*2,[0,1],'r')\n",
    "plt.plot([third_quartile]*2,[0,1],'r')\n",
    "# answer to 6\n",
    "# find trends by correlation, value counts. maybe we can copy some known trends from the web"
   ]
  },
  {
   "cell_type": "markdown",
   "metadata": {},
   "source": [
    "### Question 2 - Independence and conditional independence"
   ]
  },
  {
   "cell_type": "markdown",
   "metadata": {
    "tags": []
   },
   "source": [
    "#### 2.A\n",
    "Let $\\ X, Y \\ $ and $Z$  be discrete random variables with $\\ n, m \\ $ and $k=4$ possible outcomes respectivley.\n",
    "\n",
    "How many parameters define the joint distribution of $\\ X, Y \\ $ and $Z$?"
   ]
  },
  {
   "cell_type": "markdown",
   "metadata": {},
   "source": [
    "<p style=\"color:red;\">\n",
    "    Given no additional information, we need to know all possible outputs to to define the distribution and also all their probabilities (-1 because we have a constraint on the sum of probabilities). \n",
    "    which means we need (2n-1) + (2m-1) + (2k-1) parameters.\n",
    "    The joint distribution is defined by the same amount of parameters. "
   ]
  },
  {
   "cell_type": "markdown",
   "metadata": {},
   "source": [
    "#### 2.B\n",
    "For the same random variables from the previous section, how many parameters define the joint distribution of $\\ X, Y \\ $ and $Z$ if we now know that they are independent?"
   ]
  },
  {
   "cell_type": "markdown",
   "metadata": {},
   "source": [
    "<p style=\"color:red;\">\n",
    "    Same answer. Knowing they are independent does not provide with additional constraints"
   ]
  },
  {
   "cell_type": "markdown",
   "metadata": {},
   "source": [
    "#### 2.C\n",
    "For the same random variables from the previous section, how many parameters define the joint distribution of $\\ X, Y \\ $ and $Z$ if we now know that $X$ and $Y$ are conditionaly independent given $Z$?"
   ]
  },
  {
   "cell_type": "markdown",
   "metadata": {},
   "source": [
    "#### 2.D\n",
    "Give an example for a joint distribution of $\\ U, V \\ $ and $W$ where $U$ and $V$ are NOT conditionally independent given $W$, but $U$ and $V$ are (unconditionally) independent. Also: $U$ and $V$ are standard normally distributed ($N(0, 1)$) and $W$ is a coin (2 possible values)."
   ]
  },
  {
   "cell_type": "markdown",
   "metadata": {},
   "source": [
    "### Question 3 - Gaussian mixtures – parameter estimation and generation "
   ]
  },
  {
   "cell_type": "markdown",
   "metadata": {},
   "source": [
    "Consider the data provided in GMD.csv\n",
    "Assume that the data comes from a Gaussian mixture distribution (GMD) with $k=3$. Furthermore, assume that $\\mu_{1}=4, \\mu_{2}=9, \\sigma_{1}=\\sigma_{2}=0.5, \\sigma_3=1.5$ and $w_2=0.25$.\n",
    "\n",
    "Read the data and answer the following questions."
   ]
  },
  {
   "cell_type": "markdown",
   "metadata": {},
   "source": [
    "#### 3.A\n",
    "Provide an estimate for the other parameters of the distribution in two different ways."
   ]
  },
  {
   "cell_type": "markdown",
   "metadata": {},
   "source": [
    "<p style=\"color:red;\">\n",
    "    - 1) chi2 minimization (we have 3 unknown parameters) \n",
    "    - 2) depending on the data we might be able to see the peaks and get the weights fomr them (1 and 2 are well seperated (at least one of them is) so it should be possible)\n",
    "    - 3) not sure what other ways there are... \n",
    "    - 4) EM algorithm"
   ]
  },
  {
   "cell_type": "markdown",
   "metadata": {},
   "source": [
    "#### 3.B\n",
    "Plot a graph of the pdf of the distribution you inferred. Select adequate limits for the axes for this plot and explain your decision."
   ]
  },
  {
   "cell_type": "markdown",
   "metadata": {},
   "source": [
    "<p style=\"color:red;\">\n",
    "    we just need to plot the function we retrieve.. "
   ]
  },
  {
   "cell_type": "markdown",
   "metadata": {},
   "source": [
    "#### 3.C\n",
    "Now assume that the data comes from a Gaussian mixture distribution (GMD) with $k=4$.\n",
    "\n",
    "The given data and parameters stay the same.\n",
    "\n",
    "Can you estimate the unknown parameters in the two ways described in section A? Explain."
   ]
  },
  {
   "cell_type": "markdown",
   "metadata": {},
   "source": [
    "<p style=\"color:red;\">\n",
    "- 1) possible by adding 2 degrees of freedom and try to minimize chi2 farther?\n",
    "- 2) only by guessing we in the data we see another peak. Probably a bad idea unless it will be very clear the peak is there. "
   ]
  },
  {
   "cell_type": "markdown",
   "metadata": {},
   "source": [
    "#### 3.D\n",
    "Describe two ways for generating data for a GMM random variable with:\n",
    "* centers at  $\\mu_1=3, \\mu_2=7, \\mu_3=10$\n",
    "* $\\sigma_1=\\sigma_2=\\sigma_3=1$\n",
    "* $w_1=w_2=w_3=0.33$"
   ]
  },
  {
   "cell_type": "markdown",
   "metadata": {},
   "source": [
    "<p style=\"color:red;\">\n",
    "- 1) Monte Carlo (MC) - randomly choose x and pick it if some random value p bigger than the pdf?\n",
    "- 2) Create 3 different distributions (using the same MC method) and then merge them together? In this case it is a simple combination because the weights are identical\n",
    "- 3) Something other than MC"
   ]
  },
  {
   "cell_type": "markdown",
   "metadata": {},
   "source": [
    "#### 3.E\n",
    "Use one of the above approaches to generate 1000 points and plot a histogram of the result (decide on bins, axes etc)\n"
   ]
  },
  {
   "cell_type": "markdown",
   "metadata": {},
   "source": [
    "#### 3.F\n",
    "Use the other one to generate 1000 more points and draw two comparative histograms."
   ]
  },
  {
   "cell_type": "markdown",
   "metadata": {},
   "source": [
    "### Question 4 - Normally distributed salaries"
   ]
  },
  {
   "cell_type": "markdown",
   "metadata": {},
   "source": [
    "The annual salaries of employees in a large Randomistan company are approximateley normally distributed with a mean of 75,000 RCU and a standard deviation of 37,500 RCU."
   ]
  },
  {
   "cell_type": "code",
   "execution_count": 9,
   "metadata": {},
   "outputs": [],
   "source": [
    "from scipy import stats # using this librarys implementation of the normal distribution"
   ]
  },
  {
   "cell_type": "markdown",
   "metadata": {},
   "source": [
    "#### 4.A\n",
    "What percent of people earn less than 50,000 RCU?"
   ]
  },
  {
   "cell_type": "code",
   "execution_count": 11,
   "metadata": {},
   "outputs": [],
   "source": [
    "distribution = stats.norm(loc=75000,scale=37500)"
   ]
  },
  {
   "cell_type": "markdown",
   "metadata": {},
   "source": [
    "<p style=\"color:red;\">\n",
    "fraction less than X is exactly the CDF, multiplying by 100 to get percents"
   ]
  },
  {
   "cell_type": "code",
   "execution_count": 13,
   "metadata": {},
   "outputs": [
    {
     "data": {
      "text/plain": [
       "25.24925375469229"
      ]
     },
     "execution_count": 13,
     "metadata": {},
     "output_type": "execute_result"
    }
   ],
   "source": [
    "distribution.cdf(50_000) * 100 "
   ]
  },
  {
   "cell_type": "markdown",
   "metadata": {},
   "source": [
    "#### 4.B\n",
    "What percent of people earn between 45,000 RCU and 65,000 RCU?"
   ]
  },
  {
   "cell_type": "markdown",
   "metadata": {},
   "source": [
    "<p style=\"color:red;\">\n",
    "using the CDF to retrieve the integral in the range 45k-65k RCU:"
   ]
  },
  {
   "cell_type": "code",
   "execution_count": 24,
   "metadata": {},
   "outputs": [
    {
     "data": {
      "text/plain": [
       "18.30075118806284"
      ]
     },
     "execution_count": 24,
     "metadata": {},
     "output_type": "execute_result"
    }
   ],
   "source": [
    "(distribution.cdf(65_000) - distribution.cdf(45_000))*100  "
   ]
  },
  {
   "cell_type": "markdown",
   "metadata": {},
   "source": [
    "#### 4.C\n",
    "What percent of people earn more than 85,000 RCU?"
   ]
  },
  {
   "cell_type": "markdown",
   "metadata": {},
   "source": [
    "<p style=\"color:red;\">\n",
    "using 1 - CDF to retrieve the inegration from 85k RCU to infinity:"
   ]
  },
  {
   "cell_type": "code",
   "execution_count": 19,
   "metadata": {},
   "outputs": [
    {
     "data": {
      "text/plain": [
       "39.48629104640251"
      ]
     },
     "execution_count": 19,
     "metadata": {},
     "output_type": "execute_result"
    }
   ],
   "source": [
    "(1-distribution.cdf(85_000)) * 100 "
   ]
  },
  {
   "cell_type": "markdown",
   "metadata": {},
   "source": [
    "#### 4.D\n",
    "The company has 1000 employees. How many employees in the company do you expect to earn more than 140,000 RCU?"
   ]
  },
  {
   "cell_type": "code",
   "execution_count": 23,
   "metadata": {},
   "outputs": [
    {
     "data": {
      "text/plain": [
       "41.51821968877911"
      ]
     },
     "execution_count": 23,
     "metadata": {},
     "output_type": "execute_result"
    }
   ],
   "source": [
    "(1-distribution.cdf(140_000)) * 1000"
   ]
  },
  {
   "cell_type": "markdown",
   "metadata": {},
   "source": [
    "<p style=\"color:red;\">\n",
    "The calculation shows that there should be 41.5 people with earnings over 140k RCU, but because people count should be a natural number, we would expect the actual amount to be some natural number in the the vicinity of 41.5 (otherwise the salaries will not be approximately normally distributed)"
   ]
  },
  {
   "cell_type": "markdown",
   "metadata": {},
   "source": [
    "### Question 5 - Coupon collector"
   ]
  },
  {
   "cell_type": "markdown",
   "metadata": {},
   "source": [
    "Let $T_{N}$ denote the waiting time for full single coupon collection with N different equiprobable coupon types"
   ]
  },
  {
   "cell_type": "markdown",
   "metadata": {},
   "source": [
    "#### 5.A\n",
    "Write code to compute the exact value of $E(T_{N})$"
   ]
  },
  {
   "cell_type": "code",
   "execution_count": 32,
   "metadata": {},
   "outputs": [],
   "source": [
    "import math"
   ]
  },
  {
   "cell_type": "code",
   "execution_count": 33,
   "metadata": {},
   "outputs": [],
   "source": [
    "E_X_i=lambda i,N:N/(N-i)\n",
    "E_T_N = lambda N:sum([E_X_i(i,N) for i in range(N)])"
   ]
  },
  {
   "cell_type": "code",
   "execution_count": 37,
   "metadata": {},
   "outputs": [
    {
     "data": {
      "text/plain": [
       "1175.6061896242886"
      ]
     },
     "execution_count": 37,
     "metadata": {},
     "output_type": "execute_result"
    }
   ],
   "source": [
    "E_T_N(200) # exact value value"
   ]
  },
  {
   "cell_type": "code",
   "execution_count": 38,
   "metadata": {},
   "outputs": [
    {
     "data": {
      "text/plain": [
       "1059.6634733096073"
      ]
     },
     "execution_count": 38,
     "metadata": {},
     "output_type": "execute_result"
    }
   ],
   "source": [
    "200*math.log(200) # estimation from lectures (nH(n)~nlog(n), where H is the harmoinc sum up to n)"
   ]
  },
  {
   "cell_type": "markdown",
   "metadata": {},
   "source": [
    "#### 5.B\n",
    "Write code to compute the exact value of $V(T_{N})$"
   ]
  },
  {
   "cell_type": "code",
   "execution_count": 42,
   "metadata": {},
   "outputs": [],
   "source": [
    "V_X_i=lambda i,N:(1-(N-i)/N)/((N-i)/N)**2\n",
    "V_T_N=lambda N:sum([V_X_i(i,N) for i in range(N)])"
   ]
  },
  {
   "cell_type": "code",
   "execution_count": 44,
   "metadata": {},
   "outputs": [
    {
     "data": {
      "text/plain": [
       "407337.60466372827"
      ]
     },
     "execution_count": 44,
     "metadata": {},
     "output_type": "execute_result"
    }
   ],
   "source": [
    "V_T_N(500) # exact value "
   ]
  },
  {
   "cell_type": "code",
   "execution_count": 45,
   "metadata": {},
   "outputs": [
    {
     "data": {
      "text/plain": [
       "408126.21266284544"
      ]
     },
     "execution_count": 45,
     "metadata": {},
     "output_type": "execute_result"
    }
   ],
   "source": [
    "500**2*math.pi**2/6 - 500*math.log(500) # estimation from lectures (n^2*pi^2/6 - nH(n))"
   ]
  },
  {
   "cell_type": "markdown",
   "metadata": {
    "tags": []
   },
   "source": [
    "#### 5.C\n",
    "Write code to exactly compute $P(T_{30}>60)$"
   ]
  },
  {
   "cell_type": "code",
   "execution_count": 107,
   "metadata": {},
   "outputs": [],
   "source": [
    "def geometric(p, k):\n",
    "    \"\"\"\n",
    "    probability for k coin tosses in a geometric distribution with coint p (failure rate)\n",
    "    \"\"\"\n",
    "    if k == 0:\n",
    "        return 0\n",
    "    return (1 - p) ** (k - 1) * p\n",
    "\n",
    "\n",
    "assert geometric(0.5, 0) == 0\n",
    "assert geometric(0.5, 1) == 0.5\n",
    "assert geometric(0.3, 2) == 0.3*0.7\n",
    "\n",
    "\n",
    "def geometric_cdf(p, k):\n",
    "    \"\"\"\n",
    "    probability for k coin tosses in a geometric distribution with coin p (failure rate)\n",
    "    \"\"\"\n",
    "    if p==1: # edge case treatment\n",
    "        return int(k==1)\n",
    "    return p*(1-(1-p)**k)/(1-p)  # p(q + q^2 +...+q^k) = p(1-q^k)/q\n",
    "\n",
    "\n",
    "assert geometric_cdf(0.5, 10) == sum([geometric(0.5, i) for i in range(11)])\n",
    "\n",
    "\n",
    "def coupon(N, k, N_total=None):\n",
    "    \"\"\"\n",
    "    probability to have k coupons before collecting all N variation\n",
    "    N - coupon types left to collect\n",
    "    k - coupons left to collect (aka try amount)\n",
    "    N_orig - total coupon amount\n",
    "\n",
    "    Note: implementation from the presentation in lecture 3 slide 21\n",
    "    Note2: this method has complexity of O(k^N) (T(N) = kT(N-1)). \n",
    "    \"\"\"\n",
    "    if N_total is None:  # if not defined, we assume N is the total coupon amount\n",
    "        N_total = N\n",
    "    # stopping conditions\n",
    "    if k < N or k == 0:  # not possible to achieve cases\n",
    "        return 0\n",
    "    if N == 1: # completing the last coupon\n",
    "        return geometric_cdf(1/N_total, k) # if we want P(T_N=k) we can change geometric_cdf with geometric\n",
    "    # convolution on N-1\n",
    "    # (sum over probabilities for collecting N-1 coupons with some k' and then getting\n",
    "    # the final coupon with k-k')\n",
    "    prob_new = N / N_total  # probability to get a coupon we already saw\n",
    "    conv_results = []\n",
    "    for i in range(1, k):\n",
    "        conv_part = geometric(prob_new, k - i) * coupon(N - 1, i, N_total)\n",
    "        conv_results.append(conv_part)\n",
    "    result = sum(conv_results)\n",
    "    return result\n",
    "\n",
    "assert coupon(2,2)==0.5\n",
    "assert coupon(2,3)==0.75\n",
    "\n",
    "def coupon_DP(N, k, N_total=None):\n",
    "    \"\"\"\n",
    "    Same as coupon method but with dynamic programming implementation. \n",
    "    Note: This method has complexity O(Nk^2)\n",
    "    :param N:\n",
    "    :param k:\n",
    "    :param N_total:\n",
    "    :return:\n",
    "    \"\"\"\n",
    "    if N_total is None:\n",
    "        N_total = N\n",
    "    if k==0:\n",
    "        return 0\n",
    "    M = [[0]*k for _ in range(N)] # N rows, k columns (starting from 1)\n",
    "    for j in range(N-1,k):\n",
    "        M[0][j] = geometric_cdf(1 / N_total, j)\n",
    "    for n in range(1,N):\n",
    "        for j in range(k):\n",
    "            prob_new = N / N_total\n",
    "            for i in range(j, k):\n",
    "                M[n][j] = M[n][j] + geometric(prob_new, k - i) * M[n - 1][i]\n",
    "    return M[N-1][k-1]\n",
    "\n",
    "\n",
    "assert coupon_DP(2,5) == coupon(2,5)"
   ]
  },
  {
   "cell_type": "code",
   "execution_count": 111,
   "metadata": {
    "tags": []
   },
   "outputs": [
    {
     "name": "stdout",
     "output_type": "stream",
     "text": [
      "30 0.02158163447818274\n",
      "31 0.022011671949599635\n",
      "32 0.02242737483863597\n",
      "33 0.022829220964704425\n",
      "34 0.023217672219903934\n",
      "35 0.023593175099930124\n",
      "36 0.023956161217288774\n",
      "37 0.024307047797402136\n",
      "38 0.024646238158178388\n",
      "39 0.024974122173595428\n",
      "40 0.025291076721831906\n",
      "41 0.025597466118460494\n",
      "42 0.025893642535201468\n",
      "43 0.02617994640471774\n",
      "44 0.0264567068119168\n",
      "45 0.02672424187220923\n",
      "46 0.02698285909715858\n",
      "47 0.02723285574794295\n",
      "48 0.027474519177034504\n",
      "49 0.027708127158489675\n",
      "50 0.027933948207229675\n",
      "51 0.028152241887678342\n",
      "52 0.028363259112112054\n",
      "53 0.02856724242906464\n",
      "54 0.028764426302118805\n",
      "55 0.0289550373794045\n",
      "56 0.029139294754114007\n",
      "57 0.029317410216333196\n",
      "58 0.029489588496478408\n",
      "59 0.029656027500618784\n",
      "60 0.029816918537954484\n",
      "61 0.02997244654071232\n",
      "62 0.030122790276711563\n",
      "63 0.030268122554844165\n",
      "64 0.03040861042370568\n",
      "65 0.030544415363605148\n",
      "66 0.030675693472174637\n",
      "67 0.0308025956437918\n",
      "68 0.03092526774302173\n",
      "69 0.031043850772277323\n",
      "70 0.03115848103389107\n",
      "71 0.03126929028678436\n",
      "72 0.03137640589791454\n",
      "73 0.031479950988673705\n",
      "74 0.03158004457640757\n",
      "75 0.03167680171121697\n",
      "76 0.03177033360819939\n",
      "77 0.0318607477752824\n",
      "78 0.03194814813679598\n",
      "79 0.032032635152925766\n",
      "80 0.032114305935184564\n",
      "81 0.03219325435803473\n",
      "82 0.0322695711667899\n",
      "83 0.032343344081919884\n",
      "84 0.03241465789987888\n",
      "85 0.032483594590572575\n",
      "86 0.03255023339157648\n",
      "87 0.03261465089921358\n",
      "88 0.03267692115659612\n",
      "89 0.032737115738732565\n",
      "90 0.032795303834797805\n",
      "91 0.03285155232766087\n",
      "92 0.032905925870761826\n",
      "93 0.03295848696242609\n",
      "94 0.03300929601770154\n",
      "95 0.033058411437801145\n",
      "96 0.033105889677230764\n",
      "97 0.033151785308679384\n",
      "98 0.033196151085746396\n",
      "99 0.03323903800357784\n",
      "100 0.03328049535748157\n",
      "101 0.03332057079958851\n",
      "102 0.033359310393625205\n",
      "103 0.03339675866786069\n",
      "104 0.03343295866628832\n",
      "105 0.0334679519981017\n",
      "106 0.0335017788855213\n",
      "107 0.033534478210026905\n",
      "108 0.033566087557049\n",
      "109 0.03359664325917036\n",
      "110 0.03362618043788767\n",
      "111 0.03365473304398107\n",
      "112 0.03368233389653802\n",
      "113 0.0337090147206764\n",
      "114 0.03373480618401018\n",
      "115 0.0337597379318995\n",
      "116 0.033783838621525834\n",
      "117 0.0338071359548313\n",
      "118 0.03382965671035991\n",
      "119 0.03385142677403757\n",
      "120 0.03387247116892597\n",
      "121 0.033892814083984764\n",
      "122 0.033912478901874925\n",
      "123 0.033931488225835416\n",
      "124 0.03394986390566389\n",
      "125 0.033967627062831414\n",
      "126 0.033984798114760024\n",
      "127 0.03400139679829101\n",
      "128 0.03401744219237097\n",
      "129 0.03403295273998158\n",
      "130 0.03404794626933852\n",
      "131 0.034062440014383556\n",
      "132 0.03407645063459377\n",
      "133 0.03408999423413029\n",
      "134 0.034103086380348945\n",
      "135 0.034115742121693625\n",
      "136 0.034127976004993496\n",
      "137 0.03413980209218337\n",
      "138 0.03415123397646692\n",
      "139 0.034162284797941\n",
      "140 0.03417296725869929\n",
      "141 0.034183293637432305\n",
      "142 0.03419327580354088\n",
      "143 0.034202925230779176\n",
      "144 0.03421225301044285\n",
      "145 0.034221269864117755\n",
      "146 0.034229986156003485\n",
      "147 0.03423841190482635\n",
      "148 0.034246556795355126\n",
      "149 0.03425443018953295\n",
      "150 0.034262041137238165\n",
      "151 0.03426939838668655\n",
      "152 0.03427651039448666\n",
      "153 0.03428338533536009\n",
      "154 0.034290031111537736\n",
      "155 0.0342964553618428\n",
      "156 0.03430266547047104\n",
      "157 0.034308668575478325\n",
      "158 0.03431447157698537\n",
      "159 0.03432008114510885\n"
     ]
    },
    {
     "data": {
      "text/plain": [
       "[None,\n",
       " None,\n",
       " None,\n",
       " None,\n",
       " None,\n",
       " None,\n",
       " None,\n",
       " None,\n",
       " None,\n",
       " None,\n",
       " None,\n",
       " None,\n",
       " None,\n",
       " None,\n",
       " None,\n",
       " None,\n",
       " None,\n",
       " None,\n",
       " None,\n",
       " None,\n",
       " None,\n",
       " None,\n",
       " None,\n",
       " None,\n",
       " None,\n",
       " None,\n",
       " None,\n",
       " None,\n",
       " None,\n",
       " None,\n",
       " None,\n",
       " None,\n",
       " None,\n",
       " None,\n",
       " None,\n",
       " None,\n",
       " None,\n",
       " None,\n",
       " None,\n",
       " None,\n",
       " None,\n",
       " None,\n",
       " None,\n",
       " None,\n",
       " None,\n",
       " None,\n",
       " None,\n",
       " None,\n",
       " None,\n",
       " None,\n",
       " None,\n",
       " None,\n",
       " None,\n",
       " None,\n",
       " None,\n",
       " None,\n",
       " None,\n",
       " None,\n",
       " None,\n",
       " None,\n",
       " None,\n",
       " None,\n",
       " None,\n",
       " None,\n",
       " None,\n",
       " None,\n",
       " None,\n",
       " None,\n",
       " None,\n",
       " None,\n",
       " None,\n",
       " None,\n",
       " None,\n",
       " None,\n",
       " None,\n",
       " None,\n",
       " None,\n",
       " None,\n",
       " None,\n",
       " None,\n",
       " None,\n",
       " None,\n",
       " None,\n",
       " None,\n",
       " None,\n",
       " None,\n",
       " None,\n",
       " None,\n",
       " None,\n",
       " None,\n",
       " None,\n",
       " None,\n",
       " None,\n",
       " None,\n",
       " None,\n",
       " None,\n",
       " None,\n",
       " None,\n",
       " None,\n",
       " None,\n",
       " None,\n",
       " None,\n",
       " None,\n",
       " None,\n",
       " None,\n",
       " None,\n",
       " None,\n",
       " None,\n",
       " None,\n",
       " None,\n",
       " None,\n",
       " None,\n",
       " None,\n",
       " None,\n",
       " None,\n",
       " None,\n",
       " None,\n",
       " None,\n",
       " None,\n",
       " None,\n",
       " None,\n",
       " None,\n",
       " None,\n",
       " None,\n",
       " None,\n",
       " None,\n",
       " None,\n",
       " None,\n",
       " None,\n",
       " None]"
      ]
     },
     "execution_count": 111,
     "metadata": {},
     "output_type": "execute_result"
    }
   ],
   "source": [
    "[print(i,coupon_DP(30,i)) for i in range(30,160)]"
   ]
  },
  {
   "cell_type": "code",
   "execution_count": 110,
   "metadata": {
    "tags": []
   },
   "outputs": [
    {
     "name": "stdout",
     "output_type": "stream",
     "text": [
      "30 0.02158031723975023\n",
      "31 0.022010328463762868\n",
      "32 0.022426005980308417\n",
      "33 0.02282782757963578\n",
      "34 0.02321625512565223\n",
      "35 0.023591735086801468\n",
      "36 0.023954699049245725\n",
      "37 0.024305564212941846\n",
      "38 0.024644733871181428\n",
      "39 0.024972597874146355\n",
      "40 0.02528953307701246\n",
      "41 0.02559590377311635\n",
      "42 0.02589206211268345\n",
      "43 0.02617834850759831\n",
      "44 0.026455092022682675\n",
      "45 0.026722610753930898\n",
      "46 0.026981212194137516\n",
      "47 0.02723119358633724\n",
      "48 0.02747284226546364\n",
      "49 0.027706435988619164\n",
      "50 0.027932243254336166\n",
      "51 0.02815052361119594\n",
      "52 0.028361527956160388\n",
      "53 0.02856549882295935\n",
      "54 0.028762670660865013\n",
      "55 0.028953270104173822\n",
      "56 0.029137516232705676\n",
      "57 0.029315620823619798\n",
      "58 0.029487788594836778\n",
      "59 0.02965421744034653\n"
     ]
    },
    {
     "data": {
      "text/plain": [
       "[None,\n",
       " None,\n",
       " None,\n",
       " None,\n",
       " None,\n",
       " None,\n",
       " None,\n",
       " None,\n",
       " None,\n",
       " None,\n",
       " None,\n",
       " None,\n",
       " None,\n",
       " None,\n",
       " None,\n",
       " None,\n",
       " None,\n",
       " None,\n",
       " None,\n",
       " None,\n",
       " None,\n",
       " None,\n",
       " None,\n",
       " None,\n",
       " None,\n",
       " None,\n",
       " None,\n",
       " None,\n",
       " None,\n",
       " None]"
      ]
     },
     "execution_count": 110,
     "metadata": {},
     "output_type": "execute_result"
    }
   ],
   "source": [
    "[print(i,coupon_DP(30,i,30) - coupon_DP(15,i,30)) for i in range(30,60)]"
   ]
  },
  {
   "cell_type": "code",
   "execution_count": 93,
   "metadata": {
    "tags": []
   },
   "outputs": [
    {
     "data": {
      "text/plain": [
       "0.9701830814620456"
      ]
     },
     "execution_count": 93,
     "metadata": {},
     "output_type": "execute_result"
    }
   ],
   "source": [
    "\n",
    "1 - coupon_DP(30,60)\n"
   ]
  },
  {
   "cell_type": "markdown",
   "metadata": {},
   "source": [
    "#### 5.D\n",
    "Let $S_N$ denote the waiting time until $N/2$ different coupons are collected.\n",
    "\n",
    "Write code to exactly compute $P(S_{30}>60)$"
   ]
  },
  {
   "cell_type": "code",
   "execution_count": 101,
   "metadata": {},
   "outputs": [
    {
     "data": {
      "text/plain": [
       "0.9999981801197182"
      ]
     },
     "execution_count": 101,
     "metadata": {},
     "output_type": "execute_result"
    }
   ],
   "source": [
    "S_N_k=lambda N,k:coupon_DP(N//2,k,N)\n",
    "1-S_N_k(30,60)"
   ]
  },
  {
   "cell_type": "code",
   "execution_count": 102,
   "metadata": {},
   "outputs": [
    {
     "data": {
      "text/plain": [
       "1.8198802818575735e-06"
      ]
     },
     "execution_count": 102,
     "metadata": {},
     "output_type": "execute_result"
    }
   ],
   "source": [
    "S_N_k(30,60)"
   ]
  },
  {
   "cell_type": "code",
   "execution_count": null,
   "metadata": {},
   "outputs": [],
   "source": []
  }
 ],
 "metadata": {
  "kernelspec": {
   "display_name": "Python 3 (ipykernel)",
   "language": "python",
   "name": "python3"
  },
  "language_info": {
   "codemirror_mode": {
    "name": "ipython",
    "version": 3
   },
   "file_extension": ".py",
   "mimetype": "text/x-python",
   "name": "python",
   "nbconvert_exporter": "python",
   "pygments_lexer": "ipython3",
   "version": "3.10.8"
  }
 },
 "nbformat": 4,
 "nbformat_minor": 4
}
