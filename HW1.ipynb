{
 "cells": [
  {
   "cell_type": "markdown",
   "metadata": {
    "tags": []
   },
   "source": [
    "### IDs:\n",
    "Insert yours IDs to the cell below"
   ]
  },
  {
   "cell_type": "markdown",
   "metadata": {},
   "source": [
    "ID #1:310116165\n",
    "\n",
    "ID #2:308564293\n"
   ]
  },
  {
   "cell_type": "markdown",
   "metadata": {
    "tags": []
   },
   "source": [
    "## Read the following instructions carefully:\n",
    "\n",
    "1. This jupyter notebook contains all the step by step instructions needed for this exercise.\n",
    "1. You are free to add cells.\n",
    "1. Write your functions and your answers in this jupyter notebook only.\n",
    "1. Answers to theoretical questions should be written in **markdown cells (with $\\LaTeX$ support)**.\n",
    "1. Submit this jupyter notebook only using your ID as a filename. Not to use ZIP or RAR. For example, your Moodle submission file name should look like this (two id numbers): `123456789_987654321.ipynb`."
   ]
  },
  {
   "cell_type": "markdown",
   "metadata": {},
   "source": [
    "### Question 1 - Defective products"
   ]
  },
  {
   "cell_type": "markdown",
   "metadata": {},
   "source": [
    "In a manufacturing pipeline products are 3% defective. We are interested in examining a defective product to see what goes wrong on the belt. We need to ask the facility manager to send us a set of independent samples for examination."
   ]
  },
  {
   "cell_type": "markdown",
   "metadata": {},
   "source": [
    "#### 1.A\n",
    "\n",
    "How many independent samples should we ask for in order to have a 85% probability of having at least one defective product in the batch sent? You should write a function."
   ]
  },
  {
   "cell_type": "markdown",
   "metadata": {},
   "source": [
    "Binomial distribution with p=0.03. If X is the number of defective products out of n, we are looking for P=85% for at least 1  defective product:\n",
    "\n",
    "$0.85 = 1-P(X=0) \\rightarrow P(X=0) = 0.15$"
   ]
  },
  {
   "cell_type": "code",
   "execution_count": 2,
   "metadata": {
    "scrolled": true
   },
   "outputs": [
    {
     "data": {
      "text/plain": [
       "{0.8532360949640706, 63}"
      ]
     },
     "execution_count": 2,
     "metadata": {},
     "output_type": "execute_result"
    }
   ],
   "source": [
    "#imports\n",
    "import numpy as np\n",
    "import math\n",
    "import seaborn as sb\n",
    "import matplotlib.pyplot as plt\n",
    "\n",
    "def binom_PDF(n,k,p):\n",
    "    \"helper function: binom PDF\"\n",
    "    return math.comb(n, k)*(p**k)*(1-p)**(n-k)\n",
    "\n",
    "def binom_find_n(target_k,p,target_P,max_n):\n",
    "    \"\"\"recieves the target P and calcualtes n iteratively\n",
    "    the value of n is the number of trials to have probablility >= target_p\"\"\"\n",
    "    for n in range(1,max_n):\n",
    "        P = 0\n",
    "        for k in range(0,target_k+1):\n",
    "            P += binom_PDF(n,k,p)\n",
    "        P = 1 - P\n",
    "        if (P >= target_P):\n",
    "            return {n,P}\n",
    "    return \"error\"\n",
    "\n",
    "binom_find_n(0,0.03,0.85,1000)"
   ]
  },
  {
   "cell_type": "markdown",
   "metadata": {},
   "source": [
    "So we will require at least 63 samples and the probability of at least 1 defective prodcut is $1-0.146 = 0.854$."
   ]
  },
  {
   "cell_type": "markdown",
   "metadata": {},
   "source": [
    "#### 1.B\n",
    "Answer this part again with the following changes: products are 4% defective and we want a 95% probability of at least one defective product in the batch."
   ]
  },
  {
   "cell_type": "code",
   "execution_count": 3,
   "metadata": {
    "scrolled": true
   },
   "outputs": [
    {
     "data": {
      "text/plain": [
       "{0.9512391525501656, 74}"
      ]
     },
     "execution_count": 3,
     "metadata": {},
     "output_type": "execute_result"
    }
   ],
   "source": [
    "binom_find_n(0,0.04,0.95,1000)"
   ]
  },
  {
   "cell_type": "markdown",
   "metadata": {},
   "source": [
    "So we will require at least 74 samples to have a $1-0.048 = 0.952$ probabillity of a defective product."
   ]
  },
  {
   "cell_type": "markdown",
   "metadata": {},
   "source": [
    "#### 1.C \n",
    "\n",
    "Consider the following cases and calculate how many independent samples are required: \n",
    "\n",
    "1. Products are 10% defective and we want a 90% probability of at least 5 defective products in the batch.\n",
    "1. Products are 30% defective and we want a 90% probability of at least 15 defective products in the batch.\n",
    "\n",
    "Explain the difference between the two results. You should use mathematical reasoning based on the properties of distributions you saw in class and visualizations in your answer."
   ]
  },
  {
   "cell_type": "markdown",
   "metadata": {},
   "source": [
    "1. $P(X >=5) = 1-P(X=0)-P(X=1)-P(X=2)-P(X=3)-P(X=4)$"
   ]
  },
  {
   "cell_type": "code",
   "execution_count": 4,
   "metadata": {
    "scrolled": true
   },
   "outputs": [
    {
     "data": {
      "text/plain": [
       "{0.9006056767326882, 78}"
      ]
     },
     "execution_count": 4,
     "metadata": {},
     "output_type": "execute_result"
    }
   ],
   "source": [
    "binom_find_n(4,0.1,0.9,1000)"
   ]
  },
  {
   "cell_type": "markdown",
   "metadata": {},
   "source": [
    "So we will require at least 78 products for 90% probability.\n",
    "\n",
    "2. Similarly, $P(X >= 5) = 1 - P(X=0)- P(X=1) - ... - P(X=14)$:"
   ]
  },
  {
   "cell_type": "code",
   "execution_count": 5,
   "metadata": {},
   "outputs": [
    {
     "data": {
      "text/plain": [
       "{0.902570602815726, 64}"
      ]
     },
     "execution_count": 5,
     "metadata": {},
     "output_type": "execute_result"
    }
   ],
   "source": [
    "binom_find_n(14,0.3,0.9,1000)"
   ]
  },
  {
   "cell_type": "markdown",
   "metadata": {
    "tags": []
   },
   "source": [
    "So we will require at least 64 products for 90% probability.\n",
    "\n",
    "Intuitively we would expect for both cases to have the same amount of required trials, because the probability of defects and the amount of defects were multiplied by 3. But it practice you need less trials because the probability of non defective products became lower (case 2 is not the same as repeating case 1 thrice).  "
   ]
  },
  {
   "cell_type": "markdown",
   "metadata": {},
   "source": [
    "### Question 2 - Rent distributions in Randomistan"
   ]
  },
  {
   "cell_type": "markdown",
   "metadata": {},
   "source": [
    "The state of Randomistan conducted a survey to study the distribution of rent paid in two neighboring towns, Stochastic Heights and Random Grove, to be denoted SH and RG.<br> \n",
    "\n",
    "Here are some findings of the survey:\n",
    "* The population of SH and RG is 16,000 and 22,000 respectively. <br>\n",
    "* The mean rent in SH and RG is 6300RCU and 4200RCU respectively.\n",
    "* The median rent is 4600RCU in both towns.\n",
    "* The IQR of the rent is smaller in SH than in RG.\n",
    "\n",
    "All data generated in this question needs to be consistent with these findings."
   ]
  },
  {
   "cell_type": "markdown",
   "metadata": {},
   "source": [
    "#### 2.A\n",
    "Draw histograms that describe 2 different scenarii of possible distributions of rent in the two towns.\u000b",
    "Your histograms should:<br>\n",
    "* Use bins of 100RCU each.\n",
    "* Have at least 10 non zero bins.\n",
    "\n",
    "### Solution\n",
    "Our solution will create the required distribution by dividing the population into equal size bins and placing 50% of the popualtion in the median value. The rest of the population will be placed so to satisfly the median and IQR conditions.\n",
    "\n",
    "Let us define helper functions:"
   ]
  },
  {
   "cell_type": "code",
   "execution_count": 332,
   "metadata": {},
   "outputs": [],
   "source": [
    "# import numpy as np\n",
    "import pandas as pd\n",
    "\n",
    "def get_IQR(dist):\n",
    "    return np.quantile(dist,0.75) - np.quantile(dist,0.25)\n",
    "\n",
    "def dict_to_population(d):\n",
    "    res=[]\n",
    "    for rent,amount in d.items():\n",
    "        res += [rent]*amount\n",
    "    return np.array(res)\n",
    "\n",
    "def sanity_check(SH_pop,RG_pop):\n",
    "    return pd.DataFrame({\n",
    "    \"median\":[np.median(SH_pop),np.median(RG_pop)],\n",
    "    \"mean\":[np.mean(SH_pop),np.mean(RG_pop)],\n",
    "    \"population\":[len(SH_pop),len(RG_pop)],\n",
    "    \"IQR\":[get_IQR(SH_pop),get_IQR(RG_pop)],\n",
    "    \"variance\":[np.std(SH_pop),np.std(RG_pop)],\n",
    "    },index=[\"SH\",\"RG\"]).T\n",
    "\n",
    "def hist_plotting_script(SH_pop,RG_pop,title):\n",
    "    hist_kwargs=dict(alpha=0.3,bins=range(0,max(np.concatenate((SH_pop,RG_pop)))+100,100))\n",
    "    plt.hist(SH_pop,label=\"SH\",**hist_kwargs);\n",
    "    plt.hist(RG_pop,label=\"RG\",**hist_kwargs);\n",
    "    plt.legend();\n",
    "    plt.grid();\n",
    "    plt.title(title);"
   ]
  },
  {
   "cell_type": "markdown",
   "metadata": {},
   "source": [
    "The first two scenarios:"
   ]
  },
  {
   "cell_type": "code",
   "execution_count": 329,
   "metadata": {},
   "outputs": [],
   "source": [
    "SH1={ # SH rests values (rent:amounts of people with the rent) \n",
    "    4600:8001, # makes the median requirement true\n",
    "    8000:4998, # makes the mean requirement true\n",
    "    8000+200*(1):500,\n",
    "    8000+200*(2):500,\n",
    "    8000+200*(3):500,\n",
    "    8000+200*(-1):500,\n",
    "    8000+200*(-2):500,\n",
    "    8000+200*(-3):500,\n",
    "    11400:1,\n",
    "}\n",
    "# RG was constructed the same way as SH with an additional shift of 2000 from the median to the extreme quarters of the population \n",
    "# so that the mean and median will remain the same but the IQR will increase \n",
    "RG1 = {\n",
    "    6600:1500,\n",
    "    6500:1500,\n",
    "    6400:1500,\n",
    "    6300:1500,\n",
    "    4600:5001,\n",
    "    3800:4998,\n",
    "    3000:1,\n",
    "    2100:1500,\n",
    "    2000:1500,\n",
    "    1900:1500,\n",
    "    1800:1500,\n",
    "}"
   ]
  },
  {
   "cell_type": "markdown",
   "metadata": {},
   "source": [
    "And we can check the parameters of the distributions:"
   ]
  },
  {
   "cell_type": "code",
   "execution_count": 330,
   "metadata": {},
   "outputs": [
    {
     "data": {
      "text/html": [
       "<div>\n",
       "<style scoped>\n",
       "    .dataframe tbody tr th:only-of-type {\n",
       "        vertical-align: middle;\n",
       "    }\n",
       "\n",
       "    .dataframe tbody tr th {\n",
       "        vertical-align: top;\n",
       "    }\n",
       "\n",
       "    .dataframe thead th {\n",
       "        text-align: right;\n",
       "    }\n",
       "</style>\n",
       "<table border=\"1\" class=\"dataframe\">\n",
       "  <thead>\n",
       "    <tr style=\"text-align: right;\">\n",
       "      <th></th>\n",
       "      <th>SH</th>\n",
       "      <th>RG</th>\n",
       "    </tr>\n",
       "  </thead>\n",
       "  <tbody>\n",
       "    <tr>\n",
       "      <th>median</th>\n",
       "      <td>4600.000000</td>\n",
       "      <td>4600.000000</td>\n",
       "    </tr>\n",
       "    <tr>\n",
       "      <th>mean</th>\n",
       "      <td>6300.000000</td>\n",
       "      <td>4200.000000</td>\n",
       "    </tr>\n",
       "    <tr>\n",
       "      <th>population</th>\n",
       "      <td>16000.000000</td>\n",
       "      <td>22000.000000</td>\n",
       "    </tr>\n",
       "    <tr>\n",
       "      <th>IQR</th>\n",
       "      <td>3400.000000</td>\n",
       "      <td>4200.000000</td>\n",
       "    </tr>\n",
       "    <tr>\n",
       "      <th>variance</th>\n",
       "      <td>1710.685535</td>\n",
       "      <td>1685.516916</td>\n",
       "    </tr>\n",
       "  </tbody>\n",
       "</table>\n",
       "</div>"
      ],
      "text/plain": [
       "                      SH            RG\n",
       "median       4600.000000   4600.000000\n",
       "mean         6300.000000   4200.000000\n",
       "population  16000.000000  22000.000000\n",
       "IQR          3400.000000   4200.000000\n",
       "variance     1710.685535   1685.516916"
      ]
     },
     "execution_count": 330,
     "metadata": {},
     "output_type": "execute_result"
    }
   ],
   "source": [
    "# sanity check (make sure the population are proper)\n",
    "SH_pop1 = dict_to_population(SH1)\n",
    "RG_pop1 = dict_to_population(RG1)\n",
    "sanity_check(SH_pop1,RG_pop1)"
   ]
  },
  {
   "cell_type": "markdown",
   "metadata": {},
   "source": [
    "And ploting the histograms using a bin size of 100RCU: "
   ]
  },
  {
   "cell_type": "code",
   "execution_count": 333,
   "metadata": {},
   "outputs": [
    {
     "data": {
      "image/png": "[encoded data removed]",
      "text/plain": [
       "<Figure size 432x288 with 1 Axes>"
      ]
     },
     "metadata": {
      "needs_background": "light"
     },
     "output_type": "display_data"
    }
   ],
   "source": [
    "hist_plotting_script(SH_pop1,RG_pop1,\"Scenario 1\")"
   ]
  },
  {
   "cell_type": "markdown",
   "metadata": {
    "tags": []
   },
   "source": [
    "#### Scenario 2:"
   ]
  },
  {
   "cell_type": "code",
   "execution_count": 334,
   "metadata": {},
   "outputs": [],
   "source": [
    "SH2={ # SH rests values (rent:amounts of people with the rent) \n",
    "    4600:8001, # makes the median requirement true\n",
    "    8000:3998, # makes the mean requirement true\n",
    "    8000+150*(1):500,\n",
    "    8000+150*(2):500,\n",
    "    8000+150*(3):500,\n",
    "    8000+150*(4):500,\n",
    "    8000+150*(-1):500,\n",
    "    8000+150*(-2):500,\n",
    "    8000+150*(-3):500,\n",
    "    8000+150*(-4):500,\n",
    "    11400:1,\n",
    "}\n",
    "# RG was constructed the same way as SH with an additional shift of 2000 from the median to the extreme quarters of the population \n",
    "# so that the mean and median will remain the same but the IQR will increase \n",
    "RG2 = {\n",
    "    6800:1500,\n",
    "    6650:1500,\n",
    "    6500:1500,\n",
    "    6250:1500,\n",
    "    4600:5001,\n",
    "    3800:4998,\n",
    "    3000:1,\n",
    "    2150:1500,\n",
    "    1900:1500,\n",
    "    1750:1500,\n",
    "    1600:1500,\n",
    "}"
   ]
  },
  {
   "cell_type": "code",
   "execution_count": 335,
   "metadata": {},
   "outputs": [
    {
     "data": {
      "text/html": [
       "<div>\n",
       "<style scoped>\n",
       "    .dataframe tbody tr th:only-of-type {\n",
       "        vertical-align: middle;\n",
       "    }\n",
       "\n",
       "    .dataframe tbody tr th {\n",
       "        vertical-align: top;\n",
       "    }\n",
       "\n",
       "    .dataframe thead th {\n",
       "        text-align: right;\n",
       "    }\n",
       "</style>\n",
       "<table border=\"1\" class=\"dataframe\">\n",
       "  <thead>\n",
       "    <tr style=\"text-align: right;\">\n",
       "      <th></th>\n",
       "      <th>SH</th>\n",
       "      <th>RG</th>\n",
       "    </tr>\n",
       "  </thead>\n",
       "  <tbody>\n",
       "    <tr>\n",
       "      <th>median</th>\n",
       "      <td>4600.000000</td>\n",
       "      <td>4600.000000</td>\n",
       "    </tr>\n",
       "    <tr>\n",
       "      <th>mean</th>\n",
       "      <td>6300.000000</td>\n",
       "      <td>4200.000000</td>\n",
       "    </tr>\n",
       "    <tr>\n",
       "      <th>population</th>\n",
       "      <td>16000.000000</td>\n",
       "      <td>22000.000000</td>\n",
       "    </tr>\n",
       "    <tr>\n",
       "      <th>IQR</th>\n",
       "      <td>3400.000000</td>\n",
       "      <td>4100.000000</td>\n",
       "    </tr>\n",
       "    <tr>\n",
       "      <th>variance</th>\n",
       "      <td>1712.785013</td>\n",
       "      <td>1762.826759</td>\n",
       "    </tr>\n",
       "  </tbody>\n",
       "</table>\n",
       "</div>"
      ],
      "text/plain": [
       "                      SH            RG\n",
       "median       4600.000000   4600.000000\n",
       "mean         6300.000000   4200.000000\n",
       "population  16000.000000  22000.000000\n",
       "IQR          3400.000000   4100.000000\n",
       "variance     1712.785013   1762.826759"
      ]
     },
     "execution_count": 335,
     "metadata": {},
     "output_type": "execute_result"
    }
   ],
   "source": [
    "# sanity check (make sure the population are proper)\n",
    "SH_pop2 = dict_to_population(SH2)\n",
    "RG_pop2 = dict_to_population(RG2)\n",
    "sanity_check(SH_pop2,RG_pop2)"
   ]
  },
  {
   "cell_type": "code",
   "execution_count": 336,
   "metadata": {},
   "outputs": [
    {
     "data": {
      "image/png": "[encoded data removed]",
      "text/plain": [
       "<Figure size 432x288 with 1 Axes>"
      ]
     },
     "metadata": {
      "needs_background": "light"
     },
     "output_type": "display_data"
    }
   ],
   "source": [
    "hist_plotting_script(SH_pop2,RG_pop2,\"Scenario 2\")"
   ]
  },
  {
   "cell_type": "markdown",
   "metadata": {
    "tags": []
   },
   "source": [
    "#### 2.B\n",
    "Draw a histogram of a third scenario with the same properties. <br>\n",
    "In addition, in this scenario the rent in SH should have a higher variance than the rent in RG."
   ]
  },
  {
   "cell_type": "code",
   "execution_count": 337,
   "metadata": {},
   "outputs": [],
   "source": [
    "SH3={ # same distribution as the 1st scenario, but: \n",
    "    600:1000,# I lowered the rent by 4000 to 1000 people from the lower quarter  \n",
    "    4600:7001, \n",
    "    8000:4998,\n",
    "    8000+200*(1):500,\n",
    "    8000+200*(2):500,\n",
    "    8000+200*(3) + 8000:500, # I increased the rent by 8000 to 500 people from the upper quarter  \n",
    "    8000+200*(-1):500,\n",
    "    8000+200*(-2):500,\n",
    "    8000+200*(-3):500,\n",
    "    11400:1,\n",
    "}\n",
    "# this way the variance of SH should rise but the rest of the properties are conserved \n",
    "\n",
    "\n",
    "# Propose a 3rd distribution for RG\n",
    "RG3 = {\n",
    "    6700:1500,\n",
    "    6650:1500,\n",
    "    6500:1500,\n",
    "    6300:1500,\n",
    "    4600:5001,\n",
    "    3800:4998,\n",
    "    3000:1,\n",
    "    2150:1500,\n",
    "    1950:1500,\n",
    "    1700:1500,\n",
    "    1650:1500,\n",
    "}"
   ]
  },
  {
   "cell_type": "code",
   "execution_count": 338,
   "metadata": {},
   "outputs": [
    {
     "data": {
      "text/html": [
       "<div>\n",
       "<style scoped>\n",
       "    .dataframe tbody tr th:only-of-type {\n",
       "        vertical-align: middle;\n",
       "    }\n",
       "\n",
       "    .dataframe tbody tr th {\n",
       "        vertical-align: top;\n",
       "    }\n",
       "\n",
       "    .dataframe thead th {\n",
       "        text-align: right;\n",
       "    }\n",
       "</style>\n",
       "<table border=\"1\" class=\"dataframe\">\n",
       "  <thead>\n",
       "    <tr style=\"text-align: right;\">\n",
       "      <th></th>\n",
       "      <th>SH</th>\n",
       "      <th>RG</th>\n",
       "    </tr>\n",
       "  </thead>\n",
       "  <tbody>\n",
       "    <tr>\n",
       "      <th>median</th>\n",
       "      <td>4600.000000</td>\n",
       "      <td>4600.000000</td>\n",
       "    </tr>\n",
       "    <tr>\n",
       "      <th>mean</th>\n",
       "      <td>6300.000000</td>\n",
       "      <td>4200.000000</td>\n",
       "    </tr>\n",
       "    <tr>\n",
       "      <th>population</th>\n",
       "      <td>16000.000000</td>\n",
       "      <td>22000.000000</td>\n",
       "    </tr>\n",
       "    <tr>\n",
       "      <th>IQR</th>\n",
       "      <td>3400.000000</td>\n",
       "      <td>4150.000000</td>\n",
       "    </tr>\n",
       "    <tr>\n",
       "      <th>variance</th>\n",
       "      <td>2815.394289</td>\n",
       "      <td>1752.352704</td>\n",
       "    </tr>\n",
       "  </tbody>\n",
       "</table>\n",
       "</div>"
      ],
      "text/plain": [
       "                      SH            RG\n",
       "median       4600.000000   4600.000000\n",
       "mean         6300.000000   4200.000000\n",
       "population  16000.000000  22000.000000\n",
       "IQR          3400.000000   4150.000000\n",
       "variance     2815.394289   1752.352704"
      ]
     },
     "execution_count": 338,
     "metadata": {},
     "output_type": "execute_result"
    }
   ],
   "source": [
    "SH_pop3 = dict_to_population(SH3)\n",
    "RG_pop3 = dict_to_population(RG3)\n",
    "sanity_check(SH_pop3,RG_pop3)"
   ]
  },
  {
   "cell_type": "code",
   "execution_count": 339,
   "metadata": {},
   "outputs": [
    {
     "data": {
      "image/png": "[encoded data removed]",
      "text/plain": [
       "<Figure size 432x288 with 1 Axes>"
      ]
     },
     "metadata": {
      "needs_background": "light"
     },
     "output_type": "display_data"
    }
   ],
   "source": [
    "hist_plotting_script(SH_pop3,RG_pop3,'Scenario 3')"
   ]
  },
  {
   "cell_type": "markdown",
   "metadata": {
    "tags": []
   },
   "source": [
    "The survey also examined the per household income (PHI) in these two places.<br>\n",
    "\n",
    "It found that:<br>\n",
    "* The mean of PHI in SH is 12500 and in RG is 8500.\n",
    "* The median is 12000 in SH and 8000 in RG.\n",
    "* The covariance of the rent and the PHI was observed to be as in the formula below with $\\alpha=97\\%$ and $\\alpha=89\\%$ in SH and in RG respectively.<br><br>\n",
    "$$Cov(rent, PHI) = \\alpha * \\sqrt{Var(rent)} * \\sqrt{Var(PHI)}$$\n",
    "\n",
    "#### 2.C\n",
    "Produce rent and PHI data for the two cities, that is consistent with these findings. The covariances in your data can deviate by up to 1% from the numbers given $\\alpha$.\n",
    "\n",
    "Solution: for this excersize we will use SH1 and RG1 from part 1 and generate PHI for SH and RG as following:"
   ]
  },
  {
   "cell_type": "code",
   "execution_count": 341,
   "metadata": {},
   "outputs": [
    {
     "data": {
      "text/html": [
       "<div>\n",
       "<style scoped>\n",
       "    .dataframe tbody tr th:only-of-type {\n",
       "        vertical-align: middle;\n",
       "    }\n",
       "\n",
       "    .dataframe tbody tr th {\n",
       "        vertical-align: top;\n",
       "    }\n",
       "\n",
       "    .dataframe thead th {\n",
       "        text-align: right;\n",
       "    }\n",
       "</style>\n",
       "<table border=\"1\" class=\"dataframe\">\n",
       "  <thead>\n",
       "    <tr style=\"text-align: right;\">\n",
       "      <th></th>\n",
       "      <th>SH</th>\n",
       "      <th>RG</th>\n",
       "    </tr>\n",
       "  </thead>\n",
       "  <tbody>\n",
       "    <tr>\n",
       "      <th>median</th>\n",
       "      <td>12000.000000</td>\n",
       "      <td>8000.000000</td>\n",
       "    </tr>\n",
       "    <tr>\n",
       "      <th>mean</th>\n",
       "      <td>12500.000000</td>\n",
       "      <td>8500.000000</td>\n",
       "    </tr>\n",
       "    <tr>\n",
       "      <th>population</th>\n",
       "      <td>16000.000000</td>\n",
       "      <td>22000.000000</td>\n",
       "    </tr>\n",
       "    <tr>\n",
       "      <th>IQR</th>\n",
       "      <td>1000.000000</td>\n",
       "      <td>687.500000</td>\n",
       "    </tr>\n",
       "    <tr>\n",
       "      <th>variance</th>\n",
       "      <td>533.970973</td>\n",
       "      <td>2280.185851</td>\n",
       "    </tr>\n",
       "  </tbody>\n",
       "</table>\n",
       "</div>"
      ],
      "text/plain": [
       "                      SH            RG\n",
       "median      12000.000000   8000.000000\n",
       "mean        12500.000000   8500.000000\n",
       "population  16000.000000  22000.000000\n",
       "IQR          1000.000000    687.500000\n",
       "variance      533.970973   2280.185851"
      ]
     },
     "execution_count": 341,
     "metadata": {},
     "output_type": "execute_result"
    }
   ],
   "source": [
    "#we will use the same bins as in SH1\n",
    "SH_PHI_counts = {\n",
    "    12000:8001, # makes the median requirement true\n",
    "    13000:4998, # makes the mean requirement true\n",
    "    13000+200*(1):500,\n",
    "    13000+200*(2):500,\n",
    "    13000+200*(3):500,\n",
    "    13000+200*(-1):500,\n",
    "    13000+200*(-2):500,\n",
    "    13000+200*(-3):500,\n",
    "    14000:1,\n",
    "}\n",
    "\n",
    "d = 200\n",
    "base = 8687.5\n",
    "RG_PHI_counts = {\n",
    "    8000:6001,\n",
    "    base:3998+d*8,\n",
    "    9375:1,\n",
    "    base+1200*(1):1500-d,\n",
    "    base+1200*(2):1500-d,\n",
    "    base+1200*(3):1500-d,\n",
    "    base+1200*(4):1500-d,\n",
    "    base+1200*(-1):1500-d,\n",
    "    base+1200*(-2):1500-d,\n",
    "    base+1200*(-3):1500-d,\n",
    "    base+1200*(-4):1500-d,\n",
    "}\n",
    "\n",
    "SH_PHI = np.array(dict_to_population(SH_PHI_counts))\n",
    "RG_PHI = np.array(dict_to_population(RG_PHI_counts))\n",
    "\n",
    "sanity_check(SH_PHI,RG_PHI)"
   ]
  },
  {
   "cell_type": "markdown",
   "metadata": {},
   "source": [
    "We will define a helper function to calculate the actual $\\alpha$ using: $\\alpha = \\frac {cov(rent, PHI)}{\\sqrt{Var(rent)} x \\sqrt{Var(PHI)}}$ while noting the square root of the variance is the standard deviation."
   ]
  },
  {
   "cell_type": "code",
   "execution_count": 342,
   "metadata": {},
   "outputs": [],
   "source": [
    "def get_alpha(d1,d2):\n",
    "    d1,d2=np.array(d1),np.array(d2)\n",
    "    d1,d2 = sorted(d1), sorted(d2)\n",
    "    plt.scatter((d1),(d2))\n",
    "    return np.cov(d1,d2)[1,0]/(np.std(d1)*np.std(d2))"
   ]
  },
  {
   "cell_type": "markdown",
   "metadata": {},
   "source": [
    "And for SH, using scenario 1 of the rent distrubution and the PHI distribution we recieve $\\alpha = 0.96\\%$ which is within 1% from $\\alpha = 0.97\\%$."
   ]
  },
  {
   "cell_type": "code",
   "execution_count": 343,
   "metadata": {
    "scrolled": true
   },
   "outputs": [
    {
     "name": "stdout",
     "output_type": "stream",
     "text": [
      "0.9693733860311751\n"
     ]
    },
    {
     "data": {
      "text/plain": [
       "Text(0, 0.5, 'SH PHI')"
      ]
     },
     "execution_count": 343,
     "metadata": {},
     "output_type": "execute_result"
    },
    {
     "data": {
      "image/png": "[encoded data removed]",
      "text/plain": [
       "<Figure size 432x288 with 1 Axes>"
      ]
     },
     "metadata": {
      "needs_background": "light"
     },
     "output_type": "display_data"
    }
   ],
   "source": [
    "#calculate the alpha factor for SH\n",
    "print(get_alpha(SH_pop1,SH_PHI))\n",
    "plt.xlabel(\"SH Rent Scenario 1\")\n",
    "plt.ylabel(\"SH PHI\")"
   ]
  },
  {
   "cell_type": "markdown",
   "metadata": {},
   "source": [
    "And for RG using scenario 1 of the rent distrubution and the PHI distribution we recieve 𝛼=0.883% which is within 1% from  𝛼=0.89%."
   ]
  },
  {
   "cell_type": "code",
   "execution_count": 344,
   "metadata": {},
   "outputs": [
    {
     "name": "stdout",
     "output_type": "stream",
     "text": [
      "0.8837069952055797\n"
     ]
    },
    {
     "data": {
      "text/plain": [
       "Text(0, 0.5, 'RG PHI')"
      ]
     },
     "execution_count": 344,
     "metadata": {},
     "output_type": "execute_result"
    },
    {
     "data": {
      "image/png": "[encoded data removed]",
      "text/plain": [
       "<Figure size 432x288 with 1 Axes>"
      ]
     },
     "metadata": {
      "needs_background": "light"
     },
     "output_type": "display_data"
    }
   ],
   "source": [
    "#calculate the alpha factor for RG\n",
    "print(get_alpha(RG_pop1,RG_PHI))\n",
    "plt.xlabel(\"RG Rent Scenario 1\")\n",
    "plt.ylabel(\"RG PHI\")"
   ]
  },
  {
   "cell_type": "markdown",
   "metadata": {},
   "source": [
    "#### 2.D\n",
    "Produce two heatmaps that describe these two bivariate joint distributions. Make sure you carefully consider the selected binning resolution."
   ]
  },
  {
   "cell_type": "code",
   "execution_count": 377,
   "metadata": {},
   "outputs": [
    {
     "data": {
      "text/plain": [
       "<AxesSubplot:xlabel='Rent', ylabel='PHI'>"
      ]
     },
     "execution_count": 377,
     "metadata": {},
     "output_type": "execute_result"
    },
    {
     "data": {
      "image/png": "[encoded data removed]",
      "text/plain": [
       "<Figure size 432x288 with 1 Axes>"
      ]
     },
     "metadata": {
      "needs_background": "light"
     },
     "output_type": "display_data"
    }
   ],
   "source": [
    "SH_bivariate = pd.DataFrame({'Rent':sorted(SH_pop1), 'PHI': sorted(SH_PHI)})\n",
    "sb.histplot(SH_bivariate, x= 'Rent', y='PHI', bins = 10)"
   ]
  },
  {
   "cell_type": "code",
   "execution_count": 376,
   "metadata": {},
   "outputs": [
    {
     "data": {
      "text/plain": [
       "<AxesSubplot:xlabel='Rent', ylabel='PHI'>"
      ]
     },
     "execution_count": 376,
     "metadata": {},
     "output_type": "execute_result"
    },
    {
     "data": {
      "image/png": "[encoded data removed]",
      "text/plain": [
       "<Figure size 432x288 with 1 Axes>"
      ]
     },
     "metadata": {
      "needs_background": "light"
     },
     "output_type": "display_data"
    }
   ],
   "source": [
    "RG_bivariate = pd.DataFrame({'Rent':sorted(RG_pop1), 'PHI': sorted(RG_PHI)})\n",
    "sb.histplot(RG_bivariate, x= 'Rent', y='PHI', bins = 10)"
   ]
  },
  {
   "cell_type": "markdown",
   "metadata": {},
   "source": [
    "### Question 3 - Multinomial Distributions\n",
    "\n",
    "1. Let $X \\sim Multinomial(n,\\vec{p})$ be a multinomial random variable where $n=20$ and $\\vec{p} = (0.2,  0.1,  0.1,  0.1,  0.2,  0.3)$. Note that X is a vector of counts.\n",
    "\n",
    "\n",
    "2. Let $Y = X_2 + X_3 + X_4$ be a random variable.\n",
    "\n",
    "\n",
    "3. Create $k=100$ experiments where $X$ is sampled using Python. Calculate the empirical centralized third moment of $Y$ based on your $k$ experiments.\n",
    "\n",
    "\n",
    "4. Compare your result to the calculation in class for the centralized third moment of the **binomial** distribution and explain your observation."
   ]
  },
  {
   "cell_type": "markdown",
   "metadata": {},
   "source": [
    "Y is a random variable based on X which is a multinomial random variable with $n = 20$. \n",
    "So to generate each Y value, we will run $n = 20$ repetitions with 6 possible outcomes, each with a probability taken from the vector $p$. The Y value is the total count of $ X = 2, X = 3$ and $X = 4$ values.\n",
    "\n",
    "This experiment will be preormed $k = 100$ times and the results will be stored in a vector Y[100]."
   ]
  },
  {
   "cell_type": "code",
   "execution_count": 35,
   "metadata": {},
   "outputs": [
    {
     "name": "stdout",
     "output_type": "stream",
     "text": [
      "%pylab is deprecated, use %matplotlib inline and import the required libraries.\n",
      "Populating the interactive namespace from numpy and matplotlib\n"
     ]
    }
   ],
   "source": [
    "%pylab inline"
   ]
  },
  {
   "cell_type": "code",
   "execution_count": 54,
   "metadata": {
    "scrolled": true
   },
   "outputs": [],
   "source": [
    "np.random.seed(1)\n",
    "k = 100\n",
    "Y = np.zeros((k))\n",
    "for kk in range(0,k):\n",
    "    Y[kk] = np.bincount(np.random.choice(range(6),p=[0.2,  0.1,  0.1,  0.1,  0.2,  0.3],size=(20,)))[[1,2,3]].sum()\n",
    "#Y"
   ]
  },
  {
   "cell_type": "markdown",
   "metadata": {},
   "source": [
    "Next we can compute the empirical central 3rd moment using the formula $E((X-\\mu(X))^k)$."
   ]
  },
  {
   "cell_type": "code",
   "execution_count": 55,
   "metadata": {},
   "outputs": [
    {
     "data": {
      "text/plain": [
       "1.8048960000000016"
      ]
     },
     "execution_count": 55,
     "metadata": {},
     "output_type": "execute_result"
    }
   ],
   "source": [
    "mu = Y.mean(axis=0)\n",
    "centralized_third_moment = ((Y - mu)**3).mean()\n",
    "centralized_third_moment"
   ]
  },
  {
   "cell_type": "markdown",
   "metadata": {},
   "source": [
    "Another way to look at Y would be as a binomial distribution where there are 20 experiments. If the result is $X = 1, X = 2$ or $X = 3$ the experiment is sucessful. Therefore the probability of sucess is $P^* = 0.1 + 0.1 + 0.1 = 0.3$.\n",
    "\n",
    "Plugging in the results to the formula for $\\gamma_3$ we recieve:"
   ]
  },
  {
   "cell_type": "code",
   "execution_count": 68,
   "metadata": {},
   "outputs": [
    {
     "data": {
      "text/plain": [
       "1.6799999999999997"
      ]
     },
     "execution_count": 68,
     "metadata": {},
     "output_type": "execute_result"
    }
   ],
   "source": [
    "n = 20\n",
    "p = 0.3\n",
    "gamma_3 = n*p*(1-p)*(1-2*p)\n",
    "gamma_3"
   ]
  },
  {
   "cell_type": "markdown",
   "metadata": {},
   "source": [
    "As expected the result is relatively close to the observed value of the third moment. By increasing the number of experiments to 100,000, a closer result is achieved:"
   ]
  },
  {
   "cell_type": "code",
   "execution_count": 67,
   "metadata": {},
   "outputs": [
    {
     "data": {
      "text/plain": [
       "1.697407059465469"
      ]
     },
     "execution_count": 67,
     "metadata": {},
     "output_type": "execute_result"
    }
   ],
   "source": [
    "k = 100000\n",
    "Y = np.zeros((k))\n",
    "for kk in range(0,k):\n",
    "    Y[kk] = np.bincount(np.random.choice(range(6),p=[0.2,  0.1,  0.1,  0.1,  0.2,  0.3],size=(20,)))[[1,2,3]].sum()\n",
    "mu = Y.mean(axis=0)\n",
    "centralized_third_moment = ((Y - mu)**3).mean()\n",
    "centralized_third_moment"
   ]
  },
  {
   "cell_type": "code",
   "execution_count": 63,
   "metadata": {},
   "outputs": [
    {
     "data": {
      "text/plain": [
       "(array([  8.,  12.,  63., 155., 247., 269., 156.,  63.,  22.,   5.]),\n",
       " array([-0.50122414, -0.06940178,  0.36242059,  0.79424296,  1.22606532,\n",
       "         1.65788769,  2.08971006,  2.52153242,  2.95335479,  3.38517716,\n",
       "         3.81699952]),\n",
       " <BarContainer object of 10 artists>)"
      ]
     },
     "execution_count": 63,
     "metadata": {},
     "output_type": "execute_result"
    },
    {
     "data": {
      "image/png": "[encoded data removed]",
      "text/plain": [
       "<Figure size 432x288 with 1 Axes>"
      ]
     },
     "metadata": {
      "needs_background": "light"
     },
     "output_type": "display_data"
    }
   ],
   "source": [
    "# Test the distribution of the third moment\n",
    "experiment_res = []\n",
    "for _ in range(1000):\n",
    "    pop = np.random.multinomial(20,[0.2,  0.1,  0.1,  0.1,  0.2,  0.3],1000)[:,[1,2,3]].sum(axis=1)\n",
    "    mu = pop.mean()\n",
    "    gamma3 = ((pop-mu)**3).mean()\n",
    "    experiment_res.append(gamma3)\n",
    "plt.hist(experiment_res)"
   ]
  },
  {
   "cell_type": "markdown",
   "metadata": {},
   "source": [
    "### Question 4 - Covariance and independence"
   ]
  },
  {
   "cell_type": "markdown",
   "metadata": {},
   "source": [
    "What is the variance of the sum X +Y + Z of three random variables in terms of the variances of X, Y and Z and the covariances between each pair of random variables? What happens if X,Y,Z are pairwise independent? If X,Y,Z are pairwise independent, are they necessarily collectively independent? Prove your answer."
   ]
  },
  {
   "cell_type": "markdown",
   "metadata": {},
   "source": [
    "By definition of variance, $Var(X+Y+Z) = E[(X+Y+Z)^2] - E[X+Y+Z]^2$.\n",
    "\n",
    "Expanding the first term:\n",
    "\n",
    "$(X+Y+Z)^2 = (X+Y+Z)(X+Y+Z) = X^2+XY+YZ+YX+Y^2+YZ+ZX+ZY+Z^2 = X^2+Y^2+Z^2+2XY+2XZ+2YZ$\n",
    "\n",
    "And using linearity of expectation we can write:\n",
    "\n",
    "$E[(X+Y+Z)^2] = E[X^2+Y^2+Z^2+2XY+2XZ+2YZ] = E[X^2]+E[Y^2]+E[Z^2]+2E[XY]+2E[XZ]+2E[YZ]$\n",
    "\n",
    "Let's deal with the second term. Again, using linearity of expectation:\n",
    "\n",
    "$E[X+Y+Z]^2 = (E[X] + E[Y] + E[Z])^2 = E[X]^2 + E[Y]^2 + E[Z]^2 + 2E[X]E[Y]+2E[X]E[Z]+2E[Y]E[Z]$\n",
    "\n",
    "And combining the two terms to yield:\n",
    "\n",
    "$\\underbrace{E[X^2] - E[X]^2}_{Var[X]} + \\underbrace{E[Y^2] - E[Y]^2}_{Var[Y]} + \\underbrace{E[Z^2] -  E[Z]^2}_{Var[Z]} + 2(\\underbrace{E[XY]-E[X]E[Y]}_{Cov(X,Y)} + \\underbrace{E[XZ]E[X]E[Z]}_{Cov(X,Z)} + \\underbrace{E[YZ]E[Y]E[Z]}_{Cov(Y,Z)}$\n",
    "\n",
    "Using the definition of covariance: $Cov(x,y) = E[xy]-E[x]E[y]$. So overall:\n",
    "\n",
    "$Var(X+Y+Z) = Var(X) + Var(Y) + Var(Z) + 2(Cov(X,Y) + Cov(X,Z) + Cov(Y,Z))$\n",
    "\n",
    "\n"
   ]
  },
  {
   "cell_type": "markdown",
   "metadata": {},
   "source": [
    "### pairwise indpendence vs collective independence"
   ]
  },
  {
   "cell_type": "markdown",
   "metadata": {},
   "source": [
    "If X,Y,Z are pairwise inidependent then all the covariance terms are zero and the variance is linear."
   ]
  },
  {
   "cell_type": "markdown",
   "metadata": {},
   "source": [
    "Pairwise independence doesnt mean collective independence which means that the variance is not taking multiple-wise dependence other than pairwise into account."
   ]
  },
  {
   "cell_type": "markdown",
   "metadata": {},
   "source": [
    "Proof pairwise doesn't means collective independence: \n",
    "If we have an $\\Omega={1,2,3,4}$ and the sets A={1,2}.B={1.3},C={1,4}. Assumming the probability to choose each element in the set is 1/4, we get that the probability for the chosen element to be in the set is identical for  A,B,C (P(A)=P(B)=P(C)=1/2). All the sets are pairwise independent ($P(A\\cap B)=P(A\\cap C)=P(B\\cap C)=1/2$) but are not collectively independent ($P(A\\cap B\\cap C)=1/4$ which is different from P(A)P(B)P(C)=1/8)  "
   ]
  },
  {
   "cell_type": "markdown",
   "metadata": {},
   "source": [
    "### Question 5 - Convolutions"
   ]
  },
  {
   "cell_type": "markdown",
   "metadata": {},
   "source": [
    "#### 5.A\n",
    "Write a program, `Q = NFoldConv(P , n)`, that takes as input:\n",
    "* A distribution, P, of a random variable that takes finitely many integer values\n",
    "* An integer n\n",
    "\n",
    "and produces the distribution, Q, of the sum of n independent repeats of random variables, each of which has the distribution P."
   ]
  },
  {
   "cell_type": "code",
   "execution_count": 210,
   "metadata": {},
   "outputs": [],
   "source": [
    "import functools\n",
    "def conv(P1,P2):\n",
    "    P_res = {} # a distribution in this method is a dictionary with values mapped to probabilities\n",
    "    for v1,p1 in P1.items():\n",
    "        for v2,p2 in P2.items():\n",
    "            P_res[v1+v2] = P_res.get(v1+v2,0) + p1*p2\n",
    "    return P_res\n",
    "\n",
    "def NFoldConv(P, n):\n",
    "    return functools.reduce(conv,[P]*n)"
   ]
  },
  {
   "cell_type": "markdown",
   "metadata": {},
   "source": [
    "#### 5.B\n",
    "Compute the distribution of the sum of the results of rolling a fair octahedron 17 times.\n",
    "\n",
    "<img src=\"https://upload.wikimedia.org/wikipedia/commons/2/27/Octahedron.jpg\" width=\"200\">\n"
   ]
  },
  {
   "cell_type": "code",
   "execution_count": 211,
   "metadata": {},
   "outputs": [],
   "source": [
    "p_res = NFoldConv({i:1/8 for i in range(8)},17)"
   ]
  },
  {
   "cell_type": "code",
   "execution_count": 212,
   "metadata": {},
   "outputs": [
    {
     "data": {
      "image/png": "[encoded data removed]",
      "text/plain": [
       "<Figure size 432x288 with 1 Axes>"
      ]
     },
     "metadata": {
      "needs_background": "light"
     },
     "output_type": "display_data"
    }
   ],
   "source": [
    "import pandas as pd\n",
    "pd.Series(p_res).plot();"
   ]
  },
  {
   "cell_type": "markdown",
   "metadata": {
    "tags": []
   },
   "source": [
    "### Question 6 - Counting Similar Strings"
   ]
  },
  {
   "cell_type": "markdown",
   "metadata": {},
   "source": [
    "Define a probaility space $(\\Omega, P)$:\n",
    "* $\\Omega = \\{0,1\\}^n$.\n",
    "* $P$ is induced by independantly tossing a $p$-coin ($p \\in [0,1]$) n times.\n",
    "\n",
    "For $\\omega \\in \\Omega$ let $W(\\omega) =$ number of 1s in $\\omega$.\n",
    "\n",
    "For $\\omega \\in \\Omega$ let the random variable $C = C_{p, n}$ be defined by:\n",
    "$$C(\\omega) = |\\{\\zeta : W(\\zeta)=W(\\omega)\\}|$$"
   ]
  },
  {
   "cell_type": "markdown",
   "metadata": {
    "tags": []
   },
   "source": [
    "#### 6.A\n",
    "Plot the distribution of $W$ for $n = 100$ and $p = 0.3$. What is the name of this distribution?"
   ]
  },
  {
   "cell_type": "code",
   "execution_count": 1,
   "metadata": {},
   "outputs": [
    {
     "name": "stdout",
     "output_type": "stream",
     "text": [
      "Populating the interactive namespace from numpy and matplotlib\n"
     ]
    }
   ],
   "source": [
    "%pylab inline\n",
    "from scipy import stats\n",
    "import pandas as pd"
   ]
  },
  {
   "cell_type": "markdown",
   "metadata": {},
   "source": [
    "W is a binom distribution ('sum of n bernouli trials')"
   ]
  },
  {
   "cell_type": "code",
   "execution_count": 2,
   "metadata": {},
   "outputs": [
    {
     "data": {
      "image/png": "[encoded data removed]",
      "text/plain": [
       "<Figure size 432x288 with 1 Axes>"
      ]
     },
     "metadata": {
      "needs_background": "light"
     },
     "output_type": "display_data"
    }
   ],
   "source": [
    "plt.plot([stats.binom(100,0.3).pmf(k) for k in range(101)],'*');\n",
    "plt.grid()\n",
    "plt.title(\"W=binom(100,0.3) example plot\");"
   ]
  },
  {
   "cell_type": "markdown",
   "metadata": {
    "tags": []
   },
   "source": [
    "#### 6.B\n",
    "State a formula for comuting $E(C)$.\n",
    "\n",
    "Compute $E(C)$ for $p=0.1, 0.5, 0.8$ and $n=10, 20, 50, 100$"
   ]
  },
  {
   "cell_type": "markdown",
   "metadata": {},
   "source": [
    "for each value the binom can get, the C will get the binom coef with the same probability:\n",
    "\n",
    "$E(C)=\\sum_{k=0}^{n}{\\binom{n}{k}P_W(\\omega=k)} $"
   ]
  },
  {
   "cell_type": "code",
   "execution_count": 3,
   "metadata": {},
   "outputs": [],
   "source": [
    "def get_EC(n,p):\n",
    "    return np.array([stats.binom(n,p).pmf(k)*math.comb(n,k) for k in range(n+1)]).sum()\n",
    "EC_res=[]\n",
    "for n in [10,20,50,100]:\n",
    "    for p in [0.1,0.5,0.8]:\n",
    "        EC_res.append((n,p,get_EC(n,p)))"
   ]
  },
  {
   "cell_type": "code",
   "execution_count": 7,
   "metadata": {},
   "outputs": [
    {
     "data": {
      "text/html": [
       "<div>\n",
       "<style scoped>\n",
       "    .dataframe tbody tr th:only-of-type {\n",
       "        vertical-align: middle;\n",
       "    }\n",
       "\n",
       "    .dataframe tbody tr th {\n",
       "        vertical-align: top;\n",
       "    }\n",
       "\n",
       "    .dataframe thead th {\n",
       "        text-align: right;\n",
       "    }\n",
       "</style>\n",
       "<table border=\"1\" class=\"dataframe\">\n",
       "  <thead>\n",
       "    <tr style=\"text-align: right;\">\n",
       "      <th></th>\n",
       "      <th></th>\n",
       "      <th>E(C)</th>\n",
       "    </tr>\n",
       "    <tr>\n",
       "      <th>n</th>\n",
       "      <th>p</th>\n",
       "      <th></th>\n",
       "    </tr>\n",
       "  </thead>\n",
       "  <tbody>\n",
       "    <tr>\n",
       "      <th rowspan=\"3\" valign=\"top\">10</th>\n",
       "      <th>0.1</th>\n",
       "      <td>2.257596e+01</td>\n",
       "    </tr>\n",
       "    <tr>\n",
       "      <th>0.5</th>\n",
       "      <td>1.804258e+02</td>\n",
       "    </tr>\n",
       "    <tr>\n",
       "      <th>0.8</th>\n",
       "      <td>6.695001e+01</td>\n",
       "    </tr>\n",
       "    <tr>\n",
       "      <th rowspan=\"3\" valign=\"top\">20</th>\n",
       "      <th>0.1</th>\n",
       "      <td>1.757746e+03</td>\n",
       "    </tr>\n",
       "    <tr>\n",
       "      <th>0.5</th>\n",
       "      <td>1.314607e+05</td>\n",
       "    </tr>\n",
       "    <tr>\n",
       "      <th>0.8</th>\n",
       "      <td>1.697943e+04</td>\n",
       "    </tr>\n",
       "    <tr>\n",
       "      <th rowspan=\"3\" valign=\"top\">50</th>\n",
       "      <th>0.1</th>\n",
       "      <td>1.479310e+09</td>\n",
       "    </tr>\n",
       "    <tr>\n",
       "      <th>0.5</th>\n",
       "      <td>8.960951e+13</td>\n",
       "    </tr>\n",
       "    <tr>\n",
       "      <th>0.8</th>\n",
       "      <td>4.901520e+11</td>\n",
       "    </tr>\n",
       "    <tr>\n",
       "      <th rowspan=\"3\" valign=\"top\">100</th>\n",
       "      <th>0.1</th>\n",
       "      <td>1.681569e+19</td>\n",
       "    </tr>\n",
       "    <tr>\n",
       "      <th>0.5</th>\n",
       "      <td>7.143018e+28</td>\n",
       "    </tr>\n",
       "    <tr>\n",
       "      <th>0.8</th>\n",
       "      <td>2.013008e+24</td>\n",
       "    </tr>\n",
       "  </tbody>\n",
       "</table>\n",
       "</div>"
      ],
      "text/plain": [
       "                 E(C)\n",
       "n   p                \n",
       "10  0.1  2.257596e+01\n",
       "    0.5  1.804258e+02\n",
       "    0.8  6.695001e+01\n",
       "20  0.1  1.757746e+03\n",
       "    0.5  1.314607e+05\n",
       "    0.8  1.697943e+04\n",
       "50  0.1  1.479310e+09\n",
       "    0.5  8.960951e+13\n",
       "    0.8  4.901520e+11\n",
       "100 0.1  1.681569e+19\n",
       "    0.5  7.143018e+28\n",
       "    0.8  2.013008e+24"
      ]
     },
     "execution_count": 7,
     "metadata": {},
     "output_type": "execute_result"
    }
   ],
   "source": [
    "df_EC = pd.DataFrame(EC_res,columns=[\"n\",\"p\",\"E(C)\"]).set_index([\"n\",\"p\"])\n",
    "df_EC"
   ]
  },
  {
   "cell_type": "markdown",
   "metadata": {},
   "source": [
    "#### 6.C \n",
    "Plot the histograms of the values of $C$ for 1000 samples drawn from the space $(\\Omega, P)$ for each combination of $p$ and $n$ from the previous section. <br>\n",
    "Add text to each histogram with the empirical average of $C$ and the computed value of $E(C)$ (from the previous section). <br>\n",
    "In every histogram indicate the values of $n$ and $p$. "
   ]
  },
  {
   "cell_type": "code",
   "execution_count": 11,
   "metadata": {
    "tags": []
   },
   "outputs": [
    {
     "data": {
      "image/png": "[encoded data removed]",
      "text/plain": [
       "<Figure size 432x288 with 1 Axes>"
      ]
     },
     "metadata": {
      "needs_background": "light"
     },
     "output_type": "display_data"
    },
    {
     "data": {
      "image/png": "[encoded data removed]",
      "text/plain": [
       "<Figure size 432x288 with 1 Axes>"
      ]
     },
     "metadata": {
      "needs_background": "light"
     },
     "output_type": "display_data"
    },
    {
     "data": {
      "image/png": "[encoded data removed]",
      "text/plain": [
       "<Figure size 432x288 with 1 Axes>"
      ]
     },
     "metadata": {
      "needs_background": "light"
     },
     "output_type": "display_data"
    },
    {
     "data": {
      "image/png": "[encoded data removed]",
      "text/plain": [
       "<Figure size 432x288 with 1 Axes>"
      ]
     },
     "metadata": {
      "needs_background": "light"
     },
     "output_type": "display_data"
    },
    {
     "data": {
      "image/png": "[encoded data removed]",
      "text/plain": [
       "<Figure size 432x288 with 1 Axes>"
      ]
     },
     "metadata": {
      "needs_background": "light"
     },
     "output_type": "display_data"
    },
    {
     "data": {
      "image/png": "[encoded data removed]",
      "text/plain": [
       "<Figure size 432x288 with 1 Axes>"
      ]
     },
     "metadata": {
      "needs_background": "light"
     },
     "output_type": "display_data"
    },
    {
     "data": {
      "image/png": "[encoded data removed]",
      "text/plain": [
       "<Figure size 432x288 with 1 Axes>"
      ]
     },
     "metadata": {
      "needs_background": "light"
     },
     "output_type": "display_data"
    },
    {
     "data": {
      "image/png": "[encoded data removed]",
      "text/plain": [
       "<Figure size 432x288 with 1 Axes>"
      ]
     },
     "metadata": {
      "needs_background": "light"
     },
     "output_type": "display_data"
    },
    {
     "data": {
      "image/png": "[encoded data removed]",
      "text/plain": [
       "<Figure size 432x288 with 1 Axes>"
      ]
     },
     "metadata": {
      "needs_background": "light"
     },
     "output_type": "display_data"
    },
    {
     "data": {
      "image/png": "[encoded data removed]",
      "text/plain": [
       "<Figure size 432x288 with 1 Axes>"
      ]
     },
     "metadata": {
      "needs_background": "light"
     },
     "output_type": "display_data"
    },
    {
     "data": {
      "image/png": "[encoded data removed]",
      "text/plain": [
       "<Figure size 432x288 with 1 Axes>"
      ]
     },
     "metadata": {
      "needs_background": "light"
     },
     "output_type": "display_data"
    },
    {
     "data": {
      "image/png": "[encoded data removed]",
      "text/plain": [
       "<Figure size 432x288 with 1 Axes>"
      ]
     },
     "metadata": {
      "needs_background": "light"
     },
     "output_type": "display_data"
    }
   ],
   "source": [
    "N_sample=1000\n",
    "C_empirical_mean_res=[]\n",
    "for n in [10,20,50,100]:\n",
    "    n_map={k:math.comb(n,k) for k in range(n+1)} # a mapping from W values to C values \n",
    "    for p in [0.1,0.5,0.8]:\n",
    "        plt.figure()\n",
    "        # sample values (sample from W and then mapped the values to C)\n",
    "        values_W = stats.binom.rvs(n,p,size=N_sample)\n",
    "        # map the values from W to C \n",
    "        values_C = pd.Series(values_W).map(n_map)\n",
    "        C_empirical_mean_res.append((n,p,values_C.mean()))\n",
    "        histogram = values_C.value_counts()\n",
    "        \n",
    "        # plot hist\n",
    "        histogram.plot(style='*')\n",
    "        plt.grid()\n",
    "        plt.title(f\"n={n},p={p},mean={values_C.mean()},E(C)={df_EC.loc[(n,p),'E(C)']}\")\n",
    "        if n in [50,100]: \n",
    "            plt.xscale(\"log\")\n",
    "            plt.xlabel(\"log scale!\")"
   ]
  },
  {
   "cell_type": "markdown",
   "metadata": {},
   "source": [
    "#### 6.D\n",
    "Use a scatter plot to compare the empirical and the computed values from the previous section"
   ]
  },
  {
   "cell_type": "code",
   "execution_count": 16,
   "metadata": {},
   "outputs": [],
   "source": [
    "df_empirical_EC = pd.DataFrame(C_empirical_mean_res,columns=[\"n\",\"p\",\"empirical_mean\"]).set_index(['n','p'])\n",
    "df_comparison = df_EC.join(df_empirical_EC[\"empirical_mean\"])"
   ]
  },
  {
   "cell_type": "code",
   "execution_count": 26,
   "metadata": {},
   "outputs": [
    {
     "data": {
      "image/png": "[encoded data removed]",
      "text/plain": [
       "<Figure size 432x288 with 1 Axes>"
      ]
     },
     "metadata": {
      "needs_background": "light"
     },
     "output_type": "display_data"
    }
   ],
   "source": [
    "df_comparison.plot(kind=\"scatter\",x=\"E(C)\",y=\"empirical_mean\")\n",
    "plt.xscale(\"log\")\n",
    "plt.yscale(\"log\")\n",
    "plt.xlabel(\"theoretical mean\")\n",
    "plt.ylabel(\"empirical mean\")\n",
    "plt.title(\"comparison between theory and experiment\")\n",
    "plt.plot([1,10**28],[1,10**28],'r');"
   ]
  }
 ],
 "metadata": {
  "kernelspec": {
   "display_name": "Python 3 (ipykernel)",
   "language": "python",
   "name": "python3"
  },
  "language_info": {
   "codemirror_mode": {
    "name": "ipython",
    "version": 3
   },
   "file_extension": ".py",
   "mimetype": "text/x-python",
   "name": "python",
   "nbconvert_exporter": "python",
   "pygments_lexer": "ipython3",
   "version": "3.8.10"
  }
 },
 "nbformat": 4,
 "nbformat_minor": 4
}
